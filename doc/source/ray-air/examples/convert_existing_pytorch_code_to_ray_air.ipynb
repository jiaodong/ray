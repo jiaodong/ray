{
 "cells": [
  {
   "cell_type": "markdown",
   "id": "16a75f79",
   "metadata": {},
   "source": [
    "# Convert existing PyTorch code to Ray AIR\n",
    "\n",
    "If you already have working PyTorch code, you don't have to start from scratch to utilize the benefits of Ray AIR. Instead, you can continue to use your existing code and incrementally add Ray AIR components as needed.\n",
    "\n",
    "Some of the benefits you'll get by using Ray AIR with your existing PyTorch training code:\n",
    "\n",
    "- Easy distributed data-parallel training on a cluster\n",
    "- Automatic checkpointing/fault tolerance and result tracking\n",
    "- Parallel data preprocessing\n",
    "- Seamless integration with hyperparameter tuning\n",
    "- Scalable batch prediction\n",
    "- Scalable model serving\n",
    "\n",
    "This tutorial will show you how to start with Ray AIR from your existing PyTorch training code. We will learn how to **distribute your training** and do **scalable batch prediction**.\n"
   ]
  },
  {
   "cell_type": "markdown",
   "id": "9a4855cf",
   "metadata": {},
   "source": [
    "## The example code\n",
    "\n",
    "The example code we'll be using is that of the [PyTorch quickstart tutorial](https://pytorch.org/tutorials/beginner/basics/quickstart_tutorial.html). This code trains a neural network classifier on the FashionMNIST dataset.\n",
    "\n",
    "You can find the code we used for this tutorial [here on GitHub](https://github.com/pytorch/tutorials/blob/8dddccc4c69116ca724aa82bd5f4596ef7ad119c/beginner_source/basics/quickstart_tutorial.py)."
   ]
  },
  {
   "cell_type": "markdown",
   "id": "a42faedb",
   "metadata": {},
   "source": [
    "## Unmodified\n",
    "Let's start with the unmodified code from the example. A thorough explanation of the parts is given in the full tutorial - we'll just focus on the code here.\n",
    "\n",
    "We start with some imports:"
   ]
  },
  {
   "cell_type": "code",
   "execution_count": 1,
   "id": "01af2222",
   "metadata": {},
   "outputs": [],
   "source": [
    "import torch\n",
    "from torch import nn\n",
    "from torch.utils.data import DataLoader\n",
    "from torchvision import datasets\n",
    "from torchvision.transforms import ToTensor"
   ]
  },
  {
   "cell_type": "markdown",
   "id": "db36ae56",
   "metadata": {},
   "source": [
    "Then we download the data:"
   ]
  },
  {
   "cell_type": "code",
   "execution_count": 2,
   "id": "28126be5",
   "metadata": {},
   "outputs": [
    {
     "name": "stderr",
     "output_type": "stream",
     "text": [
      "/Users/jiaodong/anaconda3/envs/ray/lib/python3.6/site-packages/torchvision/datasets/mnist.py:498: UserWarning: The given NumPy array is not writeable, and PyTorch does not support non-writeable tensors. This means you can write to the underlying (supposedly non-writeable) NumPy array using the tensor. You may want to copy the array to protect its data or make it writeable before converting it to a tensor. This type of warning will be suppressed for the rest of this program. (Triggered internally at  ../torch/csrc/utils/tensor_numpy.cpp:180.)\n",
      "  return torch.from_numpy(parsed.astype(m[2], copy=False)).view(*s)\n"
     ]
    }
   ],
   "source": [
    "# Download training data from open datasets.\n",
    "training_data = datasets.FashionMNIST(\n",
    "    root=\"data\",\n",
    "    train=True,\n",
    "    download=True,\n",
    "    transform=ToTensor(),\n",
    ")\n",
    "\n",
    "# Download test data from open datasets.\n",
    "test_data = datasets.FashionMNIST(\n",
    "    root=\"data\",\n",
    "    train=False,\n",
    "    download=True,\n",
    "    transform=ToTensor(),\n",
    ")\n"
   ]
  },
  {
   "cell_type": "markdown",
   "id": "9795c146",
   "metadata": {},
   "source": [
    "We can now define the dataloaders:"
   ]
  },
  {
   "cell_type": "code",
   "execution_count": 3,
   "id": "b99cac23",
   "metadata": {},
   "outputs": [],
   "source": [
    "batch_size = 64\n",
    "\n",
    "# Create data loaders.\n",
    "train_dataloader = DataLoader(training_data, batch_size=batch_size)\n",
    "test_dataloader = DataLoader(test_data, batch_size=batch_size)"
   ]
  },
  {
   "cell_type": "markdown",
   "id": "ae11399e",
   "metadata": {},
   "source": [
    "We can then define and instantiate the neural network:"
   ]
  },
  {
   "cell_type": "code",
   "execution_count": 4,
   "id": "3b027562",
   "metadata": {},
   "outputs": [
    {
     "name": "stdout",
     "output_type": "stream",
     "text": [
      "Using cpu device\n",
      "NeuralNetwork(\n",
      "  (flatten): Flatten(start_dim=1, end_dim=-1)\n",
      "  (linear_relu_stack): Sequential(\n",
      "    (0): Linear(in_features=784, out_features=512, bias=True)\n",
      "    (1): ReLU()\n",
      "    (2): Linear(in_features=512, out_features=512, bias=True)\n",
      "    (3): ReLU()\n",
      "    (4): Linear(in_features=512, out_features=10, bias=True)\n",
      "  )\n",
      ")\n"
     ]
    }
   ],
   "source": [
    "# Get cpu or gpu device for training.\n",
    "device = \"cuda\" if torch.cuda.is_available() else \"cpu\"\n",
    "print(f\"Using {device} device\")\n",
    "\n",
    "# Define model\n",
    "class NeuralNetwork(nn.Module):\n",
    "    def __init__(self):\n",
    "        super(NeuralNetwork, self).__init__()\n",
    "        self.flatten = nn.Flatten()\n",
    "        self.linear_relu_stack = nn.Sequential(\n",
    "            nn.Linear(28*28, 512),\n",
    "            nn.ReLU(),\n",
    "            nn.Linear(512, 512),\n",
    "            nn.ReLU(),\n",
    "            nn.Linear(512, 10)\n",
    "        )\n",
    "\n",
    "    def forward(self, x):\n",
    "        x = self.flatten(x)\n",
    "        logits = self.linear_relu_stack(x)\n",
    "        return logits\n",
    "\n",
    "model = NeuralNetwork().to(device)\n",
    "print(model)"
   ]
  },
  {
   "cell_type": "markdown",
   "id": "b692d06a",
   "metadata": {},
   "source": [
    "Define our optimizer and loss:"
   ]
  },
  {
   "cell_type": "code",
   "execution_count": 5,
   "id": "efe92797",
   "metadata": {},
   "outputs": [],
   "source": [
    "loss_fn = nn.CrossEntropyLoss()\n",
    "optimizer = torch.optim.SGD(model.parameters(), lr=1e-3)"
   ]
  },
  {
   "cell_type": "markdown",
   "id": "681d5798",
   "metadata": {},
   "source": [
    "And finally our training loop. Note that we renamed the function from `train` to `train_epoch` to avoid conflicts with the Ray Train module later (which is also called `train`):"
   ]
  },
  {
   "cell_type": "code",
   "execution_count": 6,
   "id": "2ce258ed",
   "metadata": {},
   "outputs": [],
   "source": [
    "def train_epoch(dataloader, model, loss_fn, optimizer):\n",
    "    size = len(dataloader.dataset)\n",
    "    model.train()\n",
    "    for batch, (X, y) in enumerate(dataloader):\n",
    "        X, y = X.to(device), y.to(device)\n",
    "\n",
    "        # Compute prediction error\n",
    "        pred = model(X)\n",
    "        loss = loss_fn(pred, y)\n",
    "\n",
    "        # Backpropagation\n",
    "        optimizer.zero_grad()\n",
    "        loss.backward()\n",
    "        optimizer.step()\n",
    "\n",
    "        if batch % 100 == 0:\n",
    "            loss, current = loss.item(), batch * len(X)\n",
    "            print(f\"loss: {loss:>7f}  [{current:>5d}/{size:>5d}]\")"
   ]
  },
  {
   "cell_type": "markdown",
   "id": "6621cffa",
   "metadata": {},
   "source": [
    "And while we're at it, here is our validation loop (note that we sneaked in a `return test_loss` statement and also renamed the function):"
   ]
  },
  {
   "cell_type": "code",
   "execution_count": 7,
   "id": "bbefec77",
   "metadata": {},
   "outputs": [],
   "source": [
    "def test_epoch(dataloader, model, loss_fn):\n",
    "    size = len(dataloader.dataset)\n",
    "    num_batches = len(dataloader)\n",
    "    model.eval()\n",
    "    test_loss, correct = 0, 0\n",
    "    with torch.no_grad():\n",
    "        for X, y in dataloader:\n",
    "            X, y = X.to(device), y.to(device)\n",
    "            pred = model(X)\n",
    "            test_loss += loss_fn(pred, y).item()\n",
    "            correct += (pred.argmax(1) == y).type(torch.float).sum().item()\n",
    "    test_loss /= num_batches\n",
    "    correct /= size\n",
    "    print(f\"Test Error: \\n Accuracy: {(100*correct):>0.1f}%, Avg loss: {test_loss:>8f} \\n\")\n",
    "    return test_loss"
   ]
  },
  {
   "cell_type": "markdown",
   "id": "d915d788",
   "metadata": {},
   "source": [
    "Now we can trigger training and save a model:"
   ]
  },
  {
   "cell_type": "code",
   "execution_count": 8,
   "id": "27f80fc7",
   "metadata": {},
   "outputs": [
    {
     "name": "stdout",
     "output_type": "stream",
     "text": [
      "Epoch 1\n",
      "-------------------------------\n",
      "loss: 2.295566  [    0/60000]\n",
      "loss: 2.291762  [ 6400/60000]\n",
      "loss: 2.268867  [12800/60000]\n",
      "loss: 2.262820  [19200/60000]\n",
      "loss: 2.256001  [25600/60000]\n",
      "loss: 2.204572  [32000/60000]\n",
      "loss: 2.225075  [38400/60000]\n",
      "loss: 2.184233  [44800/60000]\n",
      "loss: 2.182663  [51200/60000]\n",
      "loss: 2.154192  [57600/60000]\n",
      "Test Error: \n",
      " Accuracy: 36.5%, Avg loss: 2.146461 \n",
      "\n",
      "Epoch 2\n",
      "-------------------------------\n",
      "loss: 2.150961  [    0/60000]\n",
      "loss: 2.147769  [ 6400/60000]\n",
      "loss: 2.085719  [12800/60000]\n",
      "loss: 2.107859  [19200/60000]\n",
      "loss: 2.066872  [25600/60000]\n",
      "loss: 1.978430  [32000/60000]\n",
      "loss: 2.029306  [38400/60000]\n",
      "loss: 1.939256  [44800/60000]\n",
      "loss: 1.951516  [51200/60000]\n",
      "loss: 1.881199  [57600/60000]\n",
      "Test Error: \n",
      " Accuracy: 55.0%, Avg loss: 1.879711 \n",
      "\n",
      "Epoch 3\n",
      "-------------------------------\n",
      "loss: 1.907144  [    0/60000]\n",
      "loss: 1.879325  [ 6400/60000]\n",
      "loss: 1.765395  [12800/60000]\n",
      "loss: 1.815291  [19200/60000]\n",
      "loss: 1.708041  [25600/60000]\n",
      "loss: 1.641765  [32000/60000]\n",
      "loss: 1.687605  [38400/60000]\n",
      "loss: 1.581743  [44800/60000]\n",
      "loss: 1.615951  [51200/60000]\n",
      "loss: 1.507691  [57600/60000]\n",
      "Test Error: \n",
      " Accuracy: 62.3%, Avg loss: 1.523205 \n",
      "\n",
      "Epoch 4\n",
      "-------------------------------\n",
      "loss: 1.589735  [    0/60000]\n",
      "loss: 1.549950  [ 6400/60000]\n",
      "loss: 1.404985  [12800/60000]\n",
      "loss: 1.479113  [19200/60000]\n",
      "loss: 1.362190  [25600/60000]\n",
      "loss: 1.348071  [32000/60000]\n",
      "loss: 1.376365  [38400/60000]\n",
      "loss: 1.297325  [44800/60000]\n",
      "loss: 1.336892  [51200/60000]\n",
      "loss: 1.234042  [57600/60000]\n",
      "Test Error: \n",
      " Accuracy: 63.8%, Avg loss: 1.255606 \n",
      "\n",
      "Epoch 5\n",
      "-------------------------------\n",
      "loss: 1.334560  [    0/60000]\n",
      "loss: 1.311746  [ 6400/60000]\n",
      "loss: 1.151140  [12800/60000]\n",
      "loss: 1.254679  [19200/60000]\n",
      "loss: 1.132061  [25600/60000]\n",
      "loss: 1.149663  [32000/60000]\n",
      "loss: 1.179779  [38400/60000]\n",
      "loss: 1.117024  [44800/60000]\n",
      "loss: 1.159811  [51200/60000]\n",
      "loss: 1.072276  [57600/60000]\n",
      "Test Error: \n",
      " Accuracy: 65.0%, Avg loss: 1.088372 \n",
      "\n",
      "Done!\n"
     ]
    }
   ],
   "source": [
    "epochs = 5\n",
    "for t in range(epochs):\n",
    "    print(f\"Epoch {t+1}\\n-------------------------------\")\n",
    "    train_epoch(train_dataloader, model, loss_fn, optimizer)\n",
    "    test_epoch(test_dataloader, model, loss_fn)\n",
    "print(\"Done!\")"
   ]
  },
  {
   "cell_type": "code",
   "execution_count": 9,
   "id": "e62fc82b",
   "metadata": {},
   "outputs": [
    {
     "name": "stdout",
     "output_type": "stream",
     "text": [
      "Saved PyTorch Model State to model.pth\n"
     ]
    }
   ],
   "source": [
    "torch.save(model.state_dict(), \"model.pth\")\n",
    "print(\"Saved PyTorch Model State to model.pth\")"
   ]
  },
  {
   "cell_type": "markdown",
   "id": "6655d903",
   "metadata": {},
   "source": [
    "We'll cover the rest of the tutorial (loading the model and doing batch prediction) later!"
   ]
  },
  {
   "cell_type": "markdown",
   "id": "d0b98b1c",
   "metadata": {},
   "source": [
    "## Introducing a wrapper function (no Ray AIR, yet!)\n",
    "The notebook-style from the tutorial is great for tutorials, but in your production code you probably wrapped the actual training logic in a function. So let's do this here, too.\n",
    "\n",
    "Note that we do not add or alter any code here (apart from variable definitions) - we just take the loose bits of code in the current tutorial and put them into one function."
   ]
  },
  {
   "cell_type": "code",
   "execution_count": 10,
   "id": "aacdf4a6",
   "metadata": {},
   "outputs": [],
   "source": [
    "def train_func():\n",
    "    batch_size = 64\n",
    "    lr = 1e-3\n",
    "    epochs = 5\n",
    "    \n",
    "    # Create data loaders.\n",
    "    train_dataloader = DataLoader(training_data, batch_size=batch_size)\n",
    "    test_dataloader = DataLoader(test_data, batch_size=batch_size)\n",
    "    \n",
    "    # Get cpu or gpu device for training.\n",
    "    device = \"cuda\" if torch.cuda.is_available() else \"cpu\"\n",
    "    print(f\"Using {device} device\")\n",
    "    \n",
    "    model = NeuralNetwork().to(device)\n",
    "    print(model)\n",
    "    \n",
    "    loss_fn = nn.CrossEntropyLoss()\n",
    "    optimizer = torch.optim.SGD(model.parameters(), lr=lr)\n",
    "    \n",
    "    for t in range(epochs):\n",
    "        print(f\"Epoch {t+1}\\n-------------------------------\")\n",
    "        train_epoch(train_dataloader, model, loss_fn, optimizer)\n",
    "        test_epoch(test_dataloader, model, loss_fn)\n",
    "\n",
    "    print(\"Done!\")"
   ]
  },
  {
   "cell_type": "markdown",
   "id": "60f7341a",
   "metadata": {},
   "source": [
    "Let's see it in action again:"
   ]
  },
  {
   "cell_type": "code",
   "execution_count": 11,
   "id": "7130c361",
   "metadata": {},
   "outputs": [
    {
     "name": "stdout",
     "output_type": "stream",
     "text": [
      "Using cpu device\n",
      "NeuralNetwork(\n",
      "  (flatten): Flatten(start_dim=1, end_dim=-1)\n",
      "  (linear_relu_stack): Sequential(\n",
      "    (0): Linear(in_features=784, out_features=512, bias=True)\n",
      "    (1): ReLU()\n",
      "    (2): Linear(in_features=512, out_features=512, bias=True)\n",
      "    (3): ReLU()\n",
      "    (4): Linear(in_features=512, out_features=10, bias=True)\n",
      "  )\n",
      ")\n",
      "Epoch 1\n",
      "-------------------------------\n",
      "loss: 2.311088  [    0/60000]\n",
      "loss: 2.295296  [ 6400/60000]\n",
      "loss: 2.271576  [12800/60000]\n",
      "loss: 2.258537  [19200/60000]\n",
      "loss: 2.250895  [25600/60000]\n",
      "loss: 2.216462  [32000/60000]\n",
      "loss: 2.222296  [38400/60000]\n",
      "loss: 2.189997  [44800/60000]\n",
      "loss: 2.188647  [51200/60000]\n",
      "loss: 2.145895  [57600/60000]\n",
      "Test Error: \n",
      " Accuracy: 44.8%, Avg loss: 2.144711 \n",
      "\n",
      "Epoch 2\n",
      "-------------------------------\n",
      "loss: 2.164661  [    0/60000]\n",
      "loss: 2.150512  [ 6400/60000]\n",
      "loss: 2.085597  [12800/60000]\n",
      "loss: 2.099732  [19200/60000]\n",
      "loss: 2.047274  [25600/60000]\n",
      "loss: 1.980986  [32000/60000]\n",
      "loss: 2.014364  [38400/60000]\n",
      "loss: 1.930184  [44800/60000]\n",
      "loss: 1.941903  [51200/60000]\n",
      "loss: 1.856329  [57600/60000]\n",
      "Test Error: \n",
      " Accuracy: 56.2%, Avg loss: 1.857978 \n",
      "\n",
      "Epoch 3\n",
      "-------------------------------\n",
      "loss: 1.901466  [    0/60000]\n",
      "loss: 1.867397  [ 6400/60000]\n",
      "loss: 1.739829  [12800/60000]\n",
      "loss: 1.784509  [19200/60000]\n",
      "loss: 1.677714  [25600/60000]\n",
      "loss: 1.621924  [32000/60000]\n",
      "loss: 1.652736  [38400/60000]\n",
      "loss: 1.549752  [44800/60000]\n",
      "loss: 1.583215  [51200/60000]\n",
      "loss: 1.469457  [57600/60000]\n",
      "Test Error: \n",
      " Accuracy: 62.0%, Avg loss: 1.491323 \n",
      "\n",
      "Epoch 4\n",
      "-------------------------------\n",
      "loss: 1.564052  [    0/60000]\n",
      "loss: 1.533092  [ 6400/60000]\n",
      "loss: 1.374619  [12800/60000]\n",
      "loss: 1.450151  [19200/60000]\n",
      "loss: 1.340597  [25600/60000]\n",
      "loss: 1.326336  [32000/60000]\n",
      "loss: 1.345804  [38400/60000]\n",
      "loss: 1.269192  [44800/60000]\n",
      "loss: 1.307673  [51200/60000]\n",
      "loss: 1.200916  [57600/60000]\n",
      "Test Error: \n",
      " Accuracy: 63.8%, Avg loss: 1.232803 \n",
      "\n",
      "Epoch 5\n",
      "-------------------------------\n",
      "loss: 1.311137  [    0/60000]\n",
      "loss: 1.301159  [ 6400/60000]\n",
      "loss: 1.127901  [12800/60000]\n",
      "loss: 1.233908  [19200/60000]\n",
      "loss: 1.118969  [25600/60000]\n",
      "loss: 1.134692  [32000/60000]\n",
      "loss: 1.157277  [38400/60000]\n",
      "loss: 1.094546  [44800/60000]\n",
      "loss: 1.135308  [51200/60000]\n",
      "loss: 1.043909  [57600/60000]\n",
      "Test Error: \n",
      " Accuracy: 65.0%, Avg loss: 1.072193 \n",
      "\n",
      "Done!\n"
     ]
    }
   ],
   "source": [
    "train_func()"
   ]
  },
  {
   "cell_type": "markdown",
   "id": "b3df2581",
   "metadata": {},
   "source": [
    "The output should look very similar to the previous ouput."
   ]
  },
  {
   "cell_type": "markdown",
   "id": "abe8e708",
   "metadata": {},
   "source": [
    "## Starting with Ray AIR: Distribute the training\n",
    "\n",
    "As a first step, we want to distribute the training across multiple workers. For this we want to\n",
    "\n",
    "1. Use data-parallel training by sharding the training data\n",
    "2. Setup the model to communicate gradient updates across machines\n",
    "3. Report the results back to Ray Train.\n",
    "\n",
    "\n",
    "To facilitate this, we only need a few changes to the code:\n",
    "\n",
    "1. We import Ray Train and Ray AIR Session:\n",
    "\n",
    "```python\n",
    "import ray.train as train\n",
    "from ray.air import session\n",
    "```\n",
    "\n",
    "\n",
    "2. We use a `config` dict to configure some hyperparameters (this is not strictly needed but good practice, especially if you want to o hyperparameter tuning later):\n",
    "\n",
    "```python\n",
    "def train_func(config: dict):\n",
    "    batch_size = config[\"batch_size\"]\n",
    "    lr = config[\"lr\"]\n",
    "    epochs = config[\"epochs\"]\n",
    "```\n",
    "\n",
    "3. We dynamically adjust the worker batch size according to the number of workers:\n",
    "\n",
    "```python\n",
    "    batch_size_per_worker = batch_size // session.get_world_size()\n",
    "```\n",
    "\n",
    "4. We prepare the data loader for distributed data sharding:\n",
    "\n",
    "```python\n",
    "    train_dataloader = train.torch.prepare_data_loader(train_dataloader)\n",
    "    test_dataloader = train.torch.prepare_data_loader(test_dataloader)\n",
    "```\n",
    "\n",
    "5. We prepare the model for distributed gradient updates:\n",
    "\n",
    "```python\n",
    "    model = train.torch.prepare_model(model)\n",
    "```\n",
    "\n",
    "Note that `train.torch.prepare_model()` also automatically takes care of setting up devices (e.g. GPU training) - so we can get rid of those lines in our current code!\n",
    "\n",
    "\n",
    "6. We capture the validation loss and report it to Ray train:\n",
    "\n",
    "```python\n",
    "        test_loss = test(test_dataloader, model, loss_fn)\n",
    "        session.report(dict(loss=test_loss))\n",
    "```\n",
    "\n",
    "7. In the `train_epoch()` and `test_epoch()` functions we divide the `size` by the world size:\n",
    "\n",
    "```python\n",
    "    size = len(dataloader.dataset) // session.get_world_size()  # Divide by word size\n",
    "```\n",
    "\n",
    "8. In the `train_epoch()` function we can get rid of the device mapping. Ray Train does this for us:\n",
    "\n",
    "```python\n",
    "        # We don't need this anymore! Ray Train does this automatically:\n",
    "        # X, y = X.to(device), y.to(device) \n",
    "```\n",
    "\n",
    "That's it - you need less than 10 lines of Ray Train-specific code and can otherwise continue to use your original code.\n",
    "\n",
    "Let's take a look at the resulting code. First the `train_epoch()` function (2 lines changed, and we also commented out the print statement):"
   ]
  },
  {
   "cell_type": "code",
   "execution_count": 12,
   "id": "50b2f602",
   "metadata": {},
   "outputs": [],
   "source": [
    "def train_epoch(dataloader, model, loss_fn, optimizer):\n",
    "    size = len(dataloader.dataset) // session.get_world_size()  # Divide by word size\n",
    "    model.train()\n",
    "    for batch, (X, y) in enumerate(dataloader):\n",
    "        # We don't need this anymore! Ray Train does this automatically:\n",
    "        # X, y = X.to(device), y.to(device)  \n",
    "\n",
    "        # Compute prediction error\n",
    "        pred = model(X)\n",
    "        loss = loss_fn(pred, y)\n",
    "\n",
    "        # Backpropagation\n",
    "        optimizer.zero_grad()\n",
    "        loss.backward()\n",
    "        optimizer.step()\n",
    "\n",
    "        if batch % 100 == 0:\n",
    "            loss, current = loss.item(), batch * len(X)\n",
    "            # print(f\"loss: {loss:>7f}  [{current:>5d}/{size:>5d}]\")"
   ]
  },
  {
   "cell_type": "markdown",
   "id": "6e260f44",
   "metadata": {},
   "source": [
    "Then the `test_epoch()` function (1 line changed, and we also commented out the print statement):"
   ]
  },
  {
   "cell_type": "code",
   "execution_count": 13,
   "id": "72aa3e48",
   "metadata": {},
   "outputs": [],
   "source": [
    "def test_epoch(dataloader, model, loss_fn):\n",
    "    size = len(dataloader.dataset) // session.get_world_size()  # Divide by word size\n",
    "    num_batches = len(dataloader)\n",
    "    model.eval()\n",
    "    test_loss, correct = 0, 0\n",
    "    with torch.no_grad():\n",
    "        for X, y in dataloader:\n",
    "            X, y = X.to(device), y.to(device)\n",
    "            pred = model(X)\n",
    "            test_loss += loss_fn(pred, y).item()\n",
    "            correct += (pred.argmax(1) == y).type(torch.float).sum().item()\n",
    "    test_loss /= num_batches\n",
    "    correct /= size\n",
    "    # print(f\"Test Error: \\n Accuracy: {(100*correct):>0.1f}%, Avg loss: {test_loss:>8f} \\n\")\n",
    "    return test_loss"
   ]
  },
  {
   "cell_type": "markdown",
   "id": "cf280e6a",
   "metadata": {},
   "source": [
    "And lastly, the wrapping `train_func()` where we added 4 lines and modified 2 (apart from the config dict):"
   ]
  },
  {
   "cell_type": "code",
   "execution_count": 14,
   "id": "3f79c731",
   "metadata": {},
   "outputs": [],
   "source": [
    "import ray.train as train\n",
    "from ray.air import session\n",
    "\n",
    "def train_func(config: dict):\n",
    "    batch_size = config[\"batch_size\"]\n",
    "    lr = config[\"lr\"]\n",
    "    epochs = config[\"epochs\"]\n",
    "    \n",
    "    batch_size_per_worker = batch_size // session.get_world_size()\n",
    "    \n",
    "    # Create data loaders.\n",
    "    train_dataloader = DataLoader(training_data, batch_size=batch_size_per_worker)\n",
    "    test_dataloader = DataLoader(test_data, batch_size=batch_size_per_worker)\n",
    "    \n",
    "    train_dataloader = train.torch.prepare_data_loader(train_dataloader)\n",
    "    test_dataloader = train.torch.prepare_data_loader(test_dataloader)\n",
    "    \n",
    "    model = NeuralNetwork()\n",
    "    model = train.torch.prepare_model(model)\n",
    "    \n",
    "    loss_fn = nn.CrossEntropyLoss()\n",
    "    optimizer = torch.optim.SGD(model.parameters(), lr=lr)\n",
    "    \n",
    "    for t in range(epochs):\n",
    "        train_epoch(train_dataloader, model, loss_fn, optimizer)\n",
    "        test_loss = test_epoch(test_dataloader, model, loss_fn)\n",
    "        session.report(dict(loss=test_loss))\n",
    "\n",
    "    print(\"Done!\")"
   ]
  },
  {
   "cell_type": "markdown",
   "id": "0fc52cc7",
   "metadata": {},
   "source": [
    "Now we'll use Ray Train's TorchTrainer to kick off the training. Note that we can set the hyperparmameters here! In the `scaling_config` we can also configure how many parallel workers to use and if we want to enable GPU training or not."
   ]
  },
  {
   "cell_type": "code",
   "execution_count": 15,
   "id": "939e767f",
   "metadata": {},
   "outputs": [
    {
     "name": "stderr",
     "output_type": "stream",
     "text": [
      "2022-07-13 10:38:21,486\tINFO services.py:1483 -- View the Ray dashboard at \u001b[1m\u001b[32mhttp://127.0.0.1:8265\u001b[39m\u001b[22m\n"
     ]
    },
    {
     "data": {
      "text/html": [
       "== Status ==<br>Current time: 2022-07-13 10:39:10 (running for 00:00:46.16)<br>Memory usage on this node: 24.2/64.0 GiB<br>Using FIFO scheduling algorithm.<br>Resources requested: 0/16 CPUs, 0/0 GPUs, 0.0/36.87 GiB heap, 0.0/2.0 GiB objects<br>Result logdir: /Users/jiaodong/ray_results/TorchTrainer_2022-07-13_10-38-23<br>Number of trials: 1/1 (1 TERMINATED)<br><table>\n",
       "<thead>\n",
       "<tr><th>Trial name              </th><th>status    </th><th>loc            </th><th style=\"text-align: right;\">  iter</th><th style=\"text-align: right;\">  total time (s)</th><th style=\"text-align: right;\">   loss</th><th style=\"text-align: right;\">  _timestamp</th><th style=\"text-align: right;\">  _time_this_iter_s</th></tr>\n",
       "</thead>\n",
       "<tbody>\n",
       "<tr><td>TorchTrainer_987e8_00000</td><td>TERMINATED</td><td>127.0.0.1:65226</td><td style=\"text-align: right;\">     4</td><td style=\"text-align: right;\">         40.4021</td><td style=\"text-align: right;\">1.21963</td><td style=\"text-align: right;\">  1657733950</td><td style=\"text-align: right;\">            9.68837</td></tr>\n",
       "</tbody>\n",
       "</table><br><br>"
      ],
      "text/plain": [
       "<IPython.core.display.HTML object>"
      ]
     },
     "metadata": {},
     "output_type": "display_data"
    },
    {
     "name": "stderr",
     "output_type": "stream",
     "text": [
      "2022-07-13 10:38:26,036\tINFO plugin_schema_manager.py:52 -- Loading the default runtime env schemas: ['/Users/jiaodong/Workspace/ray/python/ray/_private/runtime_env/../../runtime_env/schemas/working_dir_schema.json', '/Users/jiaodong/Workspace/ray/python/ray/_private/runtime_env/../../runtime_env/schemas/pip_schema.json'].\n",
      "2022-07-13 10:38:26,110\tWARNING worker.py:1747 -- Warning: The actor TrainTrainable is very large (52 MiB). Check that its definition is not implicitly capturing a large array or other object in scope. Tip: use ray.put() to put large objects in the Ray object store.\n",
      "\u001b[2m\u001b[36m(BaseWorkerMixin pid=65290)\u001b[0m 2022-07-13 10:38:32,411\tINFO config.py:71 -- Setting up process group for: env:// [rank=1, world_size=2]\n",
      "\u001b[2m\u001b[36m(BaseWorkerMixin pid=65289)\u001b[0m 2022-07-13 10:38:32,411\tINFO config.py:71 -- Setting up process group for: env:// [rank=0, world_size=2]\n",
      "\u001b[2m\u001b[36m(BaseWorkerMixin pid=65290)\u001b[0m [W ProcessGroupGloo.cpp:684] Warning: Unable to resolve hostname to a (local) address. Using the loopback address as fallback. Manually set the network interface to bind to with GLOO_SOCKET_IFNAME. (function operator())\n",
      "\u001b[2m\u001b[36m(BaseWorkerMixin pid=65289)\u001b[0m [W ProcessGroupGloo.cpp:684] Warning: Unable to resolve hostname to a (local) address. Using the loopback address as fallback. Manually set the network interface to bind to with GLOO_SOCKET_IFNAME. (function operator())\n",
      "\u001b[2m\u001b[36m(BaseWorkerMixin pid=65290)\u001b[0m 2022-07-13 10:38:32,873\tINFO train_loop_utils.py:299 -- Moving model to device: cpu\n",
      "\u001b[2m\u001b[36m(BaseWorkerMixin pid=65290)\u001b[0m 2022-07-13 10:38:32,873\tINFO train_loop_utils.py:343 -- Wrapping provided model in DDP.\n",
      "\u001b[2m\u001b[36m(BaseWorkerMixin pid=65289)\u001b[0m 2022-07-13 10:38:32,873\tINFO train_loop_utils.py:299 -- Moving model to device: cpu\n",
      "\u001b[2m\u001b[36m(BaseWorkerMixin pid=65289)\u001b[0m 2022-07-13 10:38:32,873\tINFO train_loop_utils.py:343 -- Wrapping provided model in DDP.\n"
     ]
    },
    {
     "name": "stdout",
     "output_type": "stream",
     "text": [
      "Result for TorchTrainer_987e8_00000:\n",
      "  _time_this_iter_s: 9.397725820541382\n",
      "  _timestamp: 1657733922\n",
      "  _training_iteration: 1\n",
      "  date: 2022-07-13_10-38-42\n",
      "  done: false\n",
      "  experiment_id: 50f32f3aed7d44a69be12b594da40fe6\n",
      "  hostname: Jiaos-MacBook-Pro-16-inch-2019\n",
      "  iterations_since_restore: 1\n",
      "  loss: 2.155251389096497\n",
      "  node_ip: 127.0.0.1\n",
      "  pid: 65226\n",
      "  time_since_restore: 12.282392978668213\n",
      "  time_this_iter_s: 12.282392978668213\n",
      "  time_total_s: 12.282392978668213\n",
      "  timestamp: 1657733922\n",
      "  timesteps_since_restore: 0\n",
      "  training_iteration: 1\n",
      "  trial_id: 987e8_00000\n",
      "  warmup_time: 0.003831148147583008\n",
      "  \n",
      "Result for TorchTrainer_987e8_00000:\n",
      "  _time_this_iter_s: 8.916885137557983\n",
      "  _timestamp: 1657733931\n",
      "  _training_iteration: 2\n",
      "  date: 2022-07-13_10-38-51\n",
      "  done: false\n",
      "  experiment_id: 50f32f3aed7d44a69be12b594da40fe6\n",
      "  hostname: Jiaos-MacBook-Pro-16-inch-2019\n",
      "  iterations_since_restore: 2\n",
      "  loss: 1.8652629229673154\n",
      "  node_ip: 127.0.0.1\n",
      "  pid: 65226\n",
      "  time_since_restore: 21.19570803642273\n",
      "  time_this_iter_s: 8.913315057754517\n",
      "  time_total_s: 21.19570803642273\n",
      "  timestamp: 1657733931\n",
      "  timesteps_since_restore: 0\n",
      "  training_iteration: 2\n",
      "  trial_id: 987e8_00000\n",
      "  warmup_time: 0.003831148147583008\n",
      "  \n",
      "Result for TorchTrainer_987e8_00000:\n",
      "  _time_this_iter_s: 9.520521879196167\n",
      "  _timestamp: 1657733940\n",
      "  _training_iteration: 3\n",
      "  date: 2022-07-13_10-39-00\n",
      "  done: false\n",
      "  experiment_id: 50f32f3aed7d44a69be12b594da40fe6\n",
      "  hostname: Jiaos-MacBook-Pro-16-inch-2019\n",
      "  iterations_since_restore: 3\n",
      "  loss: 1.478805961122938\n",
      "  node_ip: 127.0.0.1\n",
      "  pid: 65226\n",
      "  time_since_restore: 30.714340925216675\n",
      "  time_this_iter_s: 9.518632888793945\n",
      "  time_total_s: 30.714340925216675\n",
      "  timestamp: 1657733940\n",
      "  timesteps_since_restore: 0\n",
      "  training_iteration: 3\n",
      "  trial_id: 987e8_00000\n",
      "  warmup_time: 0.003831148147583008\n",
      "  \n",
      "Result for TorchTrainer_987e8_00000:\n",
      "  _time_this_iter_s: 9.688371896743774\n",
      "  _timestamp: 1657733950\n",
      "  _training_iteration: 4\n",
      "  date: 2022-07-13_10-39-10\n",
      "  done: false\n",
      "  experiment_id: 50f32f3aed7d44a69be12b594da40fe6\n",
      "  hostname: Jiaos-MacBook-Pro-16-inch-2019\n",
      "  iterations_since_restore: 4\n",
      "  loss: 1.219629321508347\n",
      "  node_ip: 127.0.0.1\n",
      "  pid: 65226\n",
      "  time_since_restore: 40.40209603309631\n",
      "  time_this_iter_s: 9.687755107879639\n",
      "  time_total_s: 40.40209603309631\n",
      "  timestamp: 1657733950\n",
      "  timesteps_since_restore: 0\n",
      "  training_iteration: 4\n",
      "  trial_id: 987e8_00000\n",
      "  warmup_time: 0.003831148147583008\n",
      "  \n",
      "\u001b[2m\u001b[36m(BaseWorkerMixin pid=65290)\u001b[0m Done!\n",
      "\u001b[2m\u001b[36m(BaseWorkerMixin pid=65289)\u001b[0m Done!\n",
      "Result for TorchTrainer_987e8_00000:\n",
      "  _time_this_iter_s: 9.688371896743774\n",
      "  _timestamp: 1657733950\n",
      "  _training_iteration: 4\n",
      "  date: 2022-07-13_10-39-10\n",
      "  done: true\n",
      "  experiment_id: 50f32f3aed7d44a69be12b594da40fe6\n",
      "  experiment_tag: '0'\n",
      "  hostname: Jiaos-MacBook-Pro-16-inch-2019\n",
      "  iterations_since_restore: 4\n",
      "  loss: 1.219629321508347\n",
      "  node_ip: 127.0.0.1\n",
      "  pid: 65226\n",
      "  time_since_restore: 40.40209603309631\n",
      "  time_this_iter_s: 9.687755107879639\n",
      "  time_total_s: 40.40209603309631\n",
      "  timestamp: 1657733950\n",
      "  timesteps_since_restore: 0\n",
      "  training_iteration: 4\n",
      "  trial_id: 987e8_00000\n",
      "  warmup_time: 0.003831148147583008\n",
      "  \n"
     ]
    },
    {
     "name": "stderr",
     "output_type": "stream",
     "text": [
      "2022-07-13 10:39:10,763\tINFO tune.py:738 -- Total run time: 47.17 seconds (46.15 seconds for the tuning loop).\n"
     ]
    },
    {
     "name": "stdout",
     "output_type": "stream",
     "text": [
      "Last result: {'loss': 1.219629321508347, '_timestamp': 1657733950, '_time_this_iter_s': 9.688371896743774, '_training_iteration': 4, 'time_this_iter_s': 9.687755107879639, 'done': True, 'timesteps_total': None, 'episodes_total': None, 'training_iteration': 4, 'trial_id': '987e8_00000', 'experiment_id': '50f32f3aed7d44a69be12b594da40fe6', 'date': '2022-07-13_10-39-10', 'timestamp': 1657733950, 'time_total_s': 40.40209603309631, 'pid': 65226, 'hostname': 'Jiaos-MacBook-Pro-16-inch-2019', 'node_ip': '127.0.0.1', 'config': {}, 'time_since_restore': 40.40209603309631, 'timesteps_since_restore': 0, 'iterations_since_restore': 4, 'warmup_time': 0.003831148147583008, 'experiment_tag': '0'}\n"
     ]
    }
   ],
   "source": [
    "from ray.train.torch import TorchTrainer\n",
    "\n",
    "\n",
    "trainer = TorchTrainer(\n",
    "    train_loop_per_worker=train_func,\n",
    "    train_loop_config={\"lr\": 1e-3, \"batch_size\": 64, \"epochs\": 4},\n",
    "    scaling_config={\"num_workers\": 2, \"use_gpu\": False},\n",
    ")\n",
    "result = trainer.fit()\n",
    "print(f\"Last result: {result.metrics}\")"
   ]
  },
  {
   "cell_type": "markdown",
   "id": "341f4fd8",
   "metadata": {},
   "source": [
    "Great, this works! You're now training your model in parallel. You could now scale this up to more nodes and workers on your Ray cluster.\n",
    "\n",
    "But there are a few improvements we can make to the code in order to get the most of the system. For one, we should enable **checkpointing** to get access to the trained model afterwards. Additionally, we should optimize the **data loading** to take place within the workers."
   ]
  },
  {
   "cell_type": "markdown",
   "id": "3bbe06f3",
   "metadata": {},
   "source": [
    "### Enabling checkpointing to retrieve the model\n",
    "Enabling checkpointing is pretty easy - we just need to pass a `Checkpoint` object with the model state to the `session.report()` API.\n",
    "\n",
    "```python\n",
    "    from ray.air import Checkpoint\n",
    "\n",
    "    checkpoint = Checkpoint.from_dict(\n",
    "        dict(epoch=t, model=model.module.state_dict())\n",
    "    )\n",
    "    session.report(dict(loss=test_loss), checkpoint=checkpoint)\n",
    "```\n",
    "\n",
    "Note that the `model.module` part is needed because the model gets wrapped in `torch.nn.DistributedDataParallel` by `train.torch.prepare_model`.\n",
    "\n",
    "### Move the data loader to the training function\n",
    "\n",
    "You may have noticed a warning: `Warning: The actor TrainTrainable is very large (52 MiB). Check that its definition is not implicitly capturing a large array or other object in scope. Tip: use ray.put() to put large objects in the Ray object store.`.\n",
    "\n",
    "This is because we load the data outside the training function. Ray then serializes it to make it accessible to the remote tasks (that may get executed on a remote node!). This is not too bad with just 52 MB of data, but imagine this were a full image dataset - you wouldn't want to ship this around the cluster unnecessarily. Instead, you should move the dataset loading part into the `train_func()`. This will then download the data *to disk* once per machine and result in much more efficient data loading.\n",
    "\n",
    "The result looks like this:"
   ]
  },
  {
   "cell_type": "code",
   "execution_count": 16,
   "id": "059953f8",
   "metadata": {},
   "outputs": [],
   "source": [
    "from ray.air import Checkpoint\n",
    "\n",
    "def load_data():\n",
    "    # Download training data from open datasets.\n",
    "    training_data = datasets.FashionMNIST(\n",
    "        root=\"data\",\n",
    "        train=True,\n",
    "        download=True,\n",
    "        transform=ToTensor(),\n",
    "    )\n",
    "\n",
    "    # Download test data from open datasets.\n",
    "    test_data = datasets.FashionMNIST(\n",
    "        root=\"data\",\n",
    "        train=False,\n",
    "        download=True,\n",
    "        transform=ToTensor(),\n",
    "    )\n",
    "    return training_data, test_data\n",
    "\n",
    "\n",
    "def train_func(config: dict):\n",
    "    batch_size = config[\"batch_size\"]\n",
    "    lr = config[\"lr\"]\n",
    "    epochs = config[\"epochs\"]\n",
    "    \n",
    "    batch_size_per_worker = batch_size // session.get_world_size()\n",
    "    \n",
    "    training_data, test_data = load_data()  # <- this is new!\n",
    "    \n",
    "    # Create data loaders.\n",
    "    train_dataloader = DataLoader(training_data, batch_size=batch_size_per_worker)\n",
    "    test_dataloader = DataLoader(test_data, batch_size=batch_size_per_worker)\n",
    "    \n",
    "    train_dataloader = train.torch.prepare_data_loader(train_dataloader)\n",
    "    test_dataloader = train.torch.prepare_data_loader(test_dataloader)\n",
    "    \n",
    "    model = NeuralNetwork()\n",
    "    model = train.torch.prepare_model(model)\n",
    "    \n",
    "    loss_fn = nn.CrossEntropyLoss()\n",
    "    optimizer = torch.optim.SGD(model.parameters(), lr=lr)\n",
    "    \n",
    "    for t in range(epochs):\n",
    "        train_epoch(train_dataloader, model, loss_fn, optimizer)\n",
    "        test_loss = test_epoch(test_dataloader, model, loss_fn)\n",
    "        checkpoint = Checkpoint.from_dict(\n",
    "            dict(epoch=t, model=model.module.state_dict())\n",
    "        )\n",
    "        session.report(dict(loss=test_loss), checkpoint=checkpoint)\n",
    "\n",
    "    print(\"Done!\")"
   ]
  },
  {
   "cell_type": "markdown",
   "id": "d2af219d",
   "metadata": {},
   "source": [
    "Let's train again:"
   ]
  },
  {
   "cell_type": "code",
   "execution_count": 17,
   "id": "de249d61",
   "metadata": {},
   "outputs": [
    {
     "data": {
      "text/html": [
       "== Status ==<br>Current time: 2022-07-13 10:40:50 (running for 00:01:39.57)<br>Memory usage on this node: 24.1/64.0 GiB<br>Using FIFO scheduling algorithm.<br>Resources requested: 0/16 CPUs, 0/0 GPUs, 0.0/36.87 GiB heap, 0.0/2.0 GiB objects<br>Result logdir: /Users/jiaodong/ray_results/TorchTrainer_2022-07-13_10-39-10<br>Number of trials: 1/1 (1 TERMINATED)<br><table>\n",
       "<thead>\n",
       "<tr><th>Trial name              </th><th>status    </th><th>loc            </th><th style=\"text-align: right;\">  iter</th><th style=\"text-align: right;\">  total time (s)</th><th style=\"text-align: right;\">   loss</th><th style=\"text-align: right;\">  _timestamp</th><th style=\"text-align: right;\">  _time_this_iter_s</th></tr>\n",
       "</thead>\n",
       "<tbody>\n",
       "<tr><td>TorchTrainer_b43fc_00000</td><td>TERMINATED</td><td>127.0.0.1:65706</td><td style=\"text-align: right;\">     4</td><td style=\"text-align: right;\">         96.6816</td><td style=\"text-align: right;\">1.21565</td><td style=\"text-align: right;\">  1657734050</td><td style=\"text-align: right;\">            10.6952</td></tr>\n",
       "</tbody>\n",
       "</table><br><br>"
      ],
      "text/plain": [
       "<IPython.core.display.HTML object>"
      ]
     },
     "metadata": {},
     "output_type": "display_data"
    },
    {
     "name": "stderr",
     "output_type": "stream",
     "text": [
      "\u001b[2m\u001b[36m(BaseWorkerMixin pid=65719)\u001b[0m 2022-07-13 10:39:16,061\tINFO config.py:71 -- Setting up process group for: env:// [rank=0, world_size=2]\n",
      "\u001b[2m\u001b[36m(BaseWorkerMixin pid=65719)\u001b[0m [W ProcessGroupGloo.cpp:684] Warning: Unable to resolve hostname to a (local) address. Using the loopback address as fallback. Manually set the network interface to bind to with GLOO_SOCKET_IFNAME. (function operator())\n",
      "\u001b[2m\u001b[36m(BaseWorkerMixin pid=65720)\u001b[0m 2022-07-13 10:39:16,061\tINFO config.py:71 -- Setting up process group for: env:// [rank=1, world_size=2]\n",
      "\u001b[2m\u001b[36m(BaseWorkerMixin pid=65720)\u001b[0m [W ProcessGroupGloo.cpp:684] Warning: Unable to resolve hostname to a (local) address. Using the loopback address as fallback. Manually set the network interface to bind to with GLOO_SOCKET_IFNAME. (function operator())\n"
     ]
    },
    {
     "name": "stdout",
     "output_type": "stream",
     "text": [
      "\u001b[2m\u001b[36m(BaseWorkerMixin pid=65719)\u001b[0m Downloading http://fashion-mnist.s3-website.eu-central-1.amazonaws.com/train-images-idx3-ubyte.gz\n",
      "\u001b[2m\u001b[36m(BaseWorkerMixin pid=65720)\u001b[0m Downloading http://fashion-mnist.s3-website.eu-central-1.amazonaws.com/train-images-idx3-ubyte.gz\n",
      "\u001b[2m\u001b[36m(BaseWorkerMixin pid=65719)\u001b[0m Downloading http://fashion-mnist.s3-website.eu-central-1.amazonaws.com/train-images-idx3-ubyte.gz to data/FashionMNIST/raw/train-images-idx3-ubyte.gz\n",
      "\u001b[2m\u001b[36m(BaseWorkerMixin pid=65720)\u001b[0m Downloading http://fashion-mnist.s3-website.eu-central-1.amazonaws.com/train-images-idx3-ubyte.gz to data/FashionMNIST/raw/train-images-idx3-ubyte.gz\n"
     ]
    },
    {
     "name": "stderr",
     "output_type": "stream",
     "text": [
      "  0%|          | 0/26421880 [00:00<?, ?it/s]\n",
      "  0%|          | 0/26421880 [00:00<?, ?it/s]\n",
      "  0%|          | 14336/26421880 [00:00<05:07, 85739.50it/s]\n",
      "  0%|          | 14336/26421880 [00:00<05:18, 82976.33it/s]\n",
      "  0%|          | 44032/26421880 [00:00<04:20, 101348.54it/s]\n",
      "  0%|          | 44032/26421880 [00:00<04:25, 99357.31it/s]\n",
      "  0%|          | 104448/26421880 [00:00<03:24, 128978.86it/s]\n",
      "  0%|          | 104448/26421880 [00:00<03:30, 124794.35it/s]\n",
      "  1%|          | 173056/26421880 [00:00<02:44, 159491.21it/s]\n",
      "  1%|          | 193536/26421880 [00:00<02:45, 158871.75it/s]\n",
      "  1%|          | 269312/26421880 [00:00<02:05, 207683.86it/s]\n",
      "  1%|          | 217088/26421880 [00:00<02:56, 148461.64it/s]\n",
      "  1%|          | 329728/26421880 [00:01<01:49, 237771.93it/s]\n",
      "  2%|▏         | 414720/26421880 [00:01<02:08, 203141.06it/s]\n",
      "  2%|▏         | 402432/26421880 [00:01<01:34, 275532.03it/s]\n",
      "  2%|▏         | 473088/26421880 [00:01<01:53, 229012.27it/s]\n",
      "  2%|▏         | 485376/26421880 [00:01<01:22, 314560.58it/s]\n",
      "  2%|▏         | 543744/26421880 [00:01<01:39, 258964.46it/s]\n",
      "  2%|▏         | 579584/26421880 [00:01<01:11, 362840.74it/s]\n",
      "  2%|▏         | 643072/26421880 [00:01<01:22, 314188.55it/s]\n",
      "  3%|▎         | 683008/26421880 [00:01<01:02, 415129.56it/s]\n",
      "  3%|▎         | 715776/26421880 [00:01<01:15, 339822.29it/s]\n",
      "  3%|▎         | 793600/26421880 [00:01<00:54, 467954.20it/s]\n",
      "  3%|▎         | 791552/26421880 [00:01<01:10, 364338.70it/s]\n",
      "  3%|▎         | 910336/26421880 [00:02<00:49, 519677.52it/s]\n",
      "  3%|▎         | 870400/26421880 [00:02<01:05, 387831.21it/s]\n",
      "  4%|▍         | 1035264/26421880 [00:02<00:44, 573593.54it/s]\n",
      "  4%|▎         | 949248/26421880 [00:02<00:59, 427433.28it/s]\n",
      "  4%|▍         | 1167360/26421880 [00:02<00:40, 622923.67it/s]\n",
      "  4%|▍         | 1029120/26421880 [00:02<00:58, 431112.89it/s]\n",
      "  5%|▍         | 1303552/26421880 [00:02<00:37, 669235.79it/s]\n",
      "  4%|▍         | 1114112/26421880 [00:02<00:56, 448695.01it/s]\n",
      "  5%|▌         | 1445888/26421880 [00:02<00:34, 714968.32it/s]\n",
      "  5%|▍         | 1200128/26421880 [00:02<00:54, 461262.10it/s]\n",
      "  6%|▌         | 1595392/26421880 [00:02<00:32, 759210.42it/s]\n",
      "  5%|▍         | 1287168/26421880 [00:02<00:53, 472730.12it/s]\n",
      "  7%|▋         | 1747968/26421880 [00:03<00:30, 801030.81it/s]\n",
      "  7%|▋         | 1905664/26421880 [00:03<00:29, 834050.29it/s]\n",
      "  5%|▌         | 1374208/26421880 [00:03<00:51, 481820.22it/s]\n",
      "  6%|▌         | 1463296/26421880 [00:03<00:51, 487856.25it/s]\n",
      "  8%|▊         | 2067456/26421880 [00:03<00:28, 867653.45it/s]\n",
      "  8%|▊         | 2234368/26421880 [00:03<00:26, 903266.05it/s]\n",
      "  6%|▌         | 1552384/26421880 [00:03<00:50, 495286.99it/s]\n",
      "  6%|▌         | 1640448/26421880 [00:03<00:49, 500462.17it/s]\n",
      "  9%|▉         | 2404352/26421880 [00:03<00:25, 929026.95it/s]\n",
      "  7%|▋         | 1726464/26421880 [00:03<00:49, 500425.55it/s]\n",
      " 10%|▉         | 2577408/26421880 [00:03<00:24, 955688.76it/s]\n",
      " 10%|█         | 2752512/26421880 [00:04<00:24, 984204.04it/s]\n",
      "  7%|▋         | 1815552/26421880 [00:03<00:48, 503864.76it/s]\n",
      "  7%|▋         | 1904640/26421880 [00:04<00:48, 507564.80it/s]\n",
      " 11%|█         | 2929664/26421880 [00:04<00:23, 1007274.78it/s]\n",
      " 12%|█▏        | 3098624/26421880 [00:04<00:20, 1129704.31it/s]\n",
      "  8%|▊         | 1992704/26421880 [00:04<00:48, 506227.14it/s]\n",
      " 12%|█▏        | 3217408/26421880 [00:04<00:22, 1027793.07it/s]\n",
      " 13%|█▎        | 3325952/26421880 [00:04<00:25, 914752.07it/s] \n",
      "  8%|▊         | 2081792/26421880 [00:04<00:47, 509936.46it/s]\n",
      " 13%|█▎        | 3475456/26421880 [00:04<00:22, 1019971.09it/s]\n",
      "  8%|▊         | 2166784/26421880 [00:04<00:41, 578835.92it/s]\n",
      " 14%|█▍        | 3648512/26421880 [00:04<00:19, 1162377.57it/s]\n",
      "  8%|▊         | 2228224/26421880 [00:04<00:48, 494882.56it/s]\n",
      "  9%|▊         | 2282496/26421880 [00:04<00:49, 484352.15it/s]\n",
      " 14%|█▍        | 3777536/26421880 [00:04<00:21, 1036526.52it/s]\n",
      "  9%|▉         | 2343936/26421880 [00:05<00:50, 476430.71it/s]\n",
      " 15%|█▍        | 3893248/26421880 [00:05<00:23, 943474.90it/s] \n",
      "  9%|▉         | 2407424/26421880 [00:05<00:46, 514345.45it/s]\n",
      " 15%|█▌        | 4039680/26421880 [00:05<00:21, 1055058.26it/s]\n",
      " 16%|█▌        | 4193280/26421880 [00:05<00:19, 1160037.61it/s]\n",
      "  9%|▉         | 2461696/26421880 [00:05<00:49, 479333.80it/s]\n",
      " 10%|▉         | 2521088/26421880 [00:05<00:48, 495013.41it/s]\n",
      " 16%|█▋        | 4320256/26421880 [00:05<00:21, 1049670.06it/s]\n",
      " 10%|▉         | 2572288/26421880 [00:05<00:47, 499741.11it/s]\n",
      " 17%|█▋        | 4441088/26421880 [00:05<00:20, 1091254.00it/s]\n",
      " 10%|▉         | 2623488/26421880 [00:05<00:49, 478433.11it/s]\n",
      " 17%|█▋        | 4595712/26421880 [00:05<00:20, 1076019.44it/s]\n",
      " 10%|█         | 2699264/26421880 [00:05<00:47, 501131.33it/s]\n",
      " 18%|█▊        | 4728832/26421880 [00:05<00:19, 1138098.86it/s]\n",
      " 10%|█         | 2757632/26421880 [00:05<00:46, 510442.70it/s]\n",
      " 18%|█▊        | 4847616/26421880 [00:05<00:21, 1009017.36it/s]\n",
      " 11%|█         | 2809856/26421880 [00:05<00:47, 496053.42it/s]\n",
      " 19%|█▉        | 5010432/26421880 [00:06<00:18, 1136998.23it/s]\n",
      " 11%|█         | 2879488/26421880 [00:06<00:45, 515649.99it/s]\n",
      " 19%|█▉        | 5142528/26421880 [00:06<00:17, 1185479.48it/s]\n",
      " 11%|█         | 2931712/26421880 [00:06<00:45, 512091.57it/s]\n",
      " 11%|█▏        | 2983936/26421880 [00:06<00:48, 485269.35it/s]\n",
      " 20%|█▉        | 5268480/26421880 [00:06<00:20, 1032640.24it/s]\n",
      " 20%|██        | 5397504/26421880 [00:06<00:22, 935276.07it/s] \n",
      " 12%|█▏        | 3062784/26421880 [00:06<00:44, 526461.05it/s]\n",
      " 12%|█▏        | 3117056/26421880 [00:06<00:45, 511503.23it/s]\n",
      " 21%|██        | 5587968/26421880 [00:06<00:21, 987618.56it/s]\n",
      " 12%|█▏        | 3170304/26421880 [00:06<00:51, 450035.77it/s]\n",
      " 22%|██▏       | 5693440/26421880 [00:06<00:25, 813743.13it/s]\n",
      " 12%|█▏        | 3218432/26421880 [00:06<01:01, 375892.56it/s]\n",
      " 22%|██▏       | 5909504/26421880 [00:06<00:22, 931655.87it/s]\n",
      " 13%|█▎        | 3325952/26421880 [00:06<00:50, 458120.02it/s]\n",
      " 13%|█▎        | 3387392/26421880 [00:07<00:50, 457607.53it/s]\n",
      " 23%|██▎       | 6041600/26421880 [00:07<00:22, 887774.74it/s]\n",
      " 13%|█▎        | 3441664/26421880 [00:07<00:51, 450088.36it/s]\n",
      " 23%|██▎       | 6182912/26421880 [00:07<00:23, 878588.87it/s]\n",
      " 13%|█▎        | 3492864/26421880 [00:07<00:57, 399851.48it/s]\n",
      " 24%|██▍       | 6329344/26421880 [00:07<00:23, 856147.08it/s]\n",
      " 13%|█▎        | 3539968/26421880 [00:07<00:56, 402682.62it/s]\n",
      " 25%|██▍       | 6480896/26421880 [00:07<00:22, 867998.17it/s]\n",
      " 14%|█▎        | 3612672/26421880 [00:07<00:50, 450436.46it/s]\n",
      " 14%|█▍        | 3662848/26421880 [00:07<00:54, 420237.91it/s]\n",
      " 25%|██▌       | 6638592/26421880 [00:07<00:22, 884304.25it/s]\n",
      " 14%|█▍        | 3708928/26421880 [00:07<00:57, 393348.78it/s]\n",
      " 26%|██▌       | 6800384/26421880 [00:08<00:21, 908312.18it/s]\n",
      " 14%|█▍        | 3782656/26421880 [00:08<00:52, 431760.85it/s]\n",
      " 26%|██▋       | 6966272/26421880 [00:08<00:20, 931174.87it/s]\n",
      " 15%|█▍        | 3863552/26421880 [00:08<00:45, 490638.05it/s]\n",
      " 15%|█▍        | 3917824/26421880 [00:08<00:49, 456091.98it/s]\n",
      " 27%|██▋       | 7134208/26421880 [00:08<00:20, 946959.11it/s]\n",
      " 15%|█▌        | 3968000/26421880 [00:08<00:53, 421993.87it/s]\n",
      " 28%|██▊       | 7306240/26421880 [00:08<00:19, 958338.92it/s]\n",
      " 15%|█▌        | 4047872/26421880 [00:08<00:48, 465521.51it/s]\n",
      " 28%|██▊       | 7480320/26421880 [00:08<00:19, 983888.78it/s]\n",
      " 16%|█▌        | 4127744/26421880 [00:08<00:43, 518427.91it/s]\n",
      " 29%|██▉       | 7658496/26421880 [00:08<00:18, 1008430.80it/s]\n",
      " 16%|█▌        | 4184064/26421880 [00:08<00:45, 484844.40it/s]\n",
      " 16%|█▌        | 4236288/26421880 [00:08<00:50, 441787.81it/s]\n",
      " 30%|██▉       | 7838720/26421880 [00:09<00:18, 1028119.47it/s]\n",
      " 16%|█▋        | 4325376/26421880 [00:09<00:45, 489243.88it/s]\n",
      " 17%|█▋        | 4406272/26421880 [00:09<00:40, 547674.52it/s]\n",
      " 30%|███       | 8018944/26421880 [00:09<00:17, 1042848.49it/s]\n",
      " 31%|███       | 8202240/26421880 [00:09<00:17, 1034531.29it/s]\n",
      " 17%|█▋        | 4466688/26421880 [00:09<00:43, 505816.64it/s]\n",
      " 17%|█▋        | 4521984/26421880 [00:09<00:47, 465776.17it/s]\n",
      " 32%|███▏      | 8385536/26421880 [00:09<00:17, 1016105.98it/s]\n",
      " 17%|█▋        | 4609024/26421880 [00:09<00:42, 511242.71it/s]\n",
      " 32%|███▏      | 8571904/26421880 [00:09<00:17, 1039406.19it/s]\n",
      " 33%|███▎      | 8676352/26421880 [00:09<00:21, 814021.97it/s] \n",
      " 18%|█▊        | 4664320/26421880 [00:09<01:08, 317282.63it/s]\n",
      " 34%|███▎      | 8875008/26421880 [00:10<00:18, 931089.69it/s]\n",
      " 18%|█▊        | 4794368/26421880 [00:10<00:56, 380542.40it/s]\n",
      " 34%|███▍      | 8980480/26421880 [00:10<00:23, 741027.46it/s]\n",
      " 18%|█▊        | 4846592/26421880 [00:10<01:01, 352787.99it/s]\n",
      " 35%|███▍      | 9132032/26421880 [00:10<00:20, 843929.88it/s]\n",
      " 19%|█▊        | 4907008/26421880 [00:10<01:00, 353023.63it/s]\n",
      " 35%|███▍      | 9231360/26421880 [00:10<00:23, 728019.52it/s]\n",
      " 19%|█▉        | 4956160/26421880 [00:10<01:05, 327626.11it/s]\n",
      " 35%|███▌      | 9325568/26421880 [00:10<00:25, 673695.29it/s]\n",
      " 19%|█▉        | 5006336/26421880 [00:10<01:08, 312171.10it/s]\n",
      " 36%|███▌      | 9426944/26421880 [00:10<00:26, 653169.53it/s]\n",
      " 19%|█▉        | 5054464/26421880 [00:10<01:11, 299327.95it/s]\n",
      " 36%|███▌      | 9531392/26421880 [00:11<00:26, 644673.72it/s]\n",
      " 19%|█▉        | 5107712/26421880 [00:11<01:10, 302266.68it/s]\n",
      " 36%|███▋      | 9636864/26421880 [00:11<00:26, 643082.19it/s]\n",
      " 20%|█▉        | 5161984/26421880 [00:11<01:09, 304451.51it/s]\n",
      " 37%|███▋      | 9743360/26421880 [00:11<00:26, 633430.93it/s]\n",
      " 20%|█▉        | 5218304/26421880 [00:11<01:08, 307594.93it/s]\n",
      " 37%|███▋      | 9851904/26421880 [00:11<00:26, 631169.76it/s]\n",
      " 20%|█▉        | 5275648/26421880 [00:11<01:07, 313919.66it/s]\n",
      " 38%|███▊      | 9962496/26421880 [00:11<00:25, 641079.51it/s]\n",
      " 38%|███▊      | 10074112/26421880 [00:11<00:25, 649672.72it/s]\n",
      " 20%|██        | 5332992/26421880 [00:11<01:06, 318488.56it/s]\n",
      " 20%|██        | 5389312/26421880 [00:12<01:05, 320306.33it/s]\n",
      " 39%|███▊      | 10186752/26421880 [00:12<00:24, 658894.37it/s]\n",
      " 21%|██        | 5446656/26421880 [00:12<01:05, 318595.04it/s]\n",
      " 39%|███▉      | 10300416/26421880 [00:12<00:24, 665382.46it/s]\n",
      " 39%|███▉      | 10415104/26421880 [00:12<00:24, 655184.25it/s]\n",
      " 21%|██        | 5504000/26421880 [00:12<01:04, 321952.27it/s]\n",
      " 40%|███▉      | 10529792/26421880 [00:12<00:24, 651639.22it/s]\n",
      " 21%|██        | 5560320/26421880 [00:12<01:10, 294937.30it/s]\n",
      " 40%|████      | 10644480/26421880 [00:12<00:23, 663110.79it/s]\n",
      " 21%|██▏       | 5617664/26421880 [00:12<01:08, 305202.83it/s]\n",
      " 41%|████      | 10758144/26421880 [00:12<00:23, 668142.80it/s]\n",
      " 21%|██▏       | 5675008/26421880 [00:12<01:06, 312824.49it/s]\n",
      " 41%|████      | 10872832/26421880 [00:13<00:23, 672177.87it/s]\n",
      " 22%|██▏       | 5732352/26421880 [00:13<01:05, 318218.95it/s]\n",
      " 42%|████▏     | 10986496/26421880 [00:13<00:22, 679239.53it/s]\n",
      " 22%|██▏       | 5786624/26421880 [00:13<01:02, 328806.95it/s]\n",
      " 42%|████▏     | 11101184/26421880 [00:13<00:22, 677653.34it/s]\n",
      " 22%|██▏       | 5844992/26421880 [00:13<01:02, 330940.44it/s]\n",
      " 42%|████▏     | 11215872/26421880 [00:13<00:22, 680781.08it/s]\n",
      " 22%|██▏       | 5905408/26421880 [00:13<01:00, 337126.22it/s]\n",
      " 43%|████▎     | 11329536/26421880 [00:13<00:22, 680344.73it/s]\n",
      " 23%|██▎       | 5962752/26421880 [00:13<01:01, 335302.67it/s]\n",
      " 43%|████▎     | 11444224/26421880 [00:13<00:21, 681168.13it/s]\n",
      " 23%|██▎       | 6024192/26421880 [00:13<00:59, 341306.06it/s]\n",
      " 44%|████▎     | 11558912/26421880 [00:14<00:21, 683051.69it/s]\n",
      " 23%|██▎       | 6085632/26421880 [00:14<00:58, 345674.69it/s]\n",
      " 44%|████▍     | 11673600/26421880 [00:14<00:21, 685892.83it/s]\n",
      " 23%|██▎       | 6149120/26421880 [00:14<00:57, 351491.11it/s]\n",
      " 45%|████▍     | 11788288/26421880 [00:14<00:21, 686084.39it/s]\n",
      " 24%|██▎       | 6210560/26421880 [00:14<00:57, 350221.93it/s]\n",
      " 45%|████▌     | 11899904/26421880 [00:14<00:21, 673506.07it/s]\n",
      " 24%|██▎       | 6275072/26421880 [00:14<00:56, 356731.32it/s]\n",
      " 45%|████▌     | 12014592/26421880 [00:14<00:21, 678443.22it/s]\n",
      " 24%|██▍       | 6339584/26421880 [00:14<00:55, 360697.19it/s]\n",
      " 46%|████▌     | 12129280/26421880 [00:14<00:20, 682221.63it/s]\n",
      " 24%|██▍       | 6404096/26421880 [00:15<00:54, 365038.80it/s]\n",
      " 46%|████▋     | 12244992/26421880 [00:15<00:20, 687254.70it/s]\n",
      " 24%|██▍       | 6468608/26421880 [00:15<00:50, 392929.56it/s]\n",
      " 47%|████▋     | 12360704/26421880 [00:15<00:20, 680255.36it/s]\n",
      " 25%|██▍       | 6509568/26421880 [00:15<00:53, 375668.49it/s]\n",
      " 25%|██▍       | 6548480/26421880 [00:15<00:57, 344335.99it/s]\n",
      " 47%|████▋     | 12478464/26421880 [00:15<00:20, 688669.87it/s]\n",
      " 25%|██▍       | 6601728/26421880 [00:15<00:55, 359733.81it/s]\n",
      " 48%|████▊     | 12597248/26421880 [00:15<00:20, 688907.57it/s]\n",
      " 25%|██▌       | 6668288/26421880 [00:15<00:53, 366896.60it/s]\n",
      " 48%|████▊     | 12716032/26421880 [00:15<00:19, 695333.60it/s]\n",
      " 49%|████▊     | 12834816/26421880 [00:15<00:19, 698800.70it/s]\n",
      " 26%|██▌       | 6738944/26421880 [00:15<00:52, 377916.08it/s]\n",
      " 26%|██▌       | 6808576/26421880 [00:16<00:50, 385530.68it/s]\n",
      " 49%|████▉     | 12956672/26421880 [00:16<00:18, 710417.59it/s]\n",
      " 26%|██▌       | 6883328/26421880 [00:16<00:48, 399576.94it/s]\n",
      " 49%|████▉     | 13078528/26421880 [00:16<00:18, 718396.40it/s]\n",
      " 26%|██▋       | 6943744/26421880 [00:16<00:43, 442685.23it/s]\n",
      " 50%|████▉     | 13203456/26421880 [00:16<00:18, 726033.32it/s]\n",
      " 26%|██▋       | 6989824/26421880 [00:16<00:46, 421014.04it/s]\n",
      " 27%|██▋       | 7041024/26421880 [00:16<00:46, 420361.86it/s]\n",
      " 50%|█████     | 13330432/26421880 [00:16<00:17, 736640.95it/s]\n",
      " 27%|██▋       | 7098368/26421880 [00:16<00:43, 443252.32it/s]\n",
      " 51%|█████     | 13460480/26421880 [00:16<00:17, 748386.42it/s]\n",
      " 27%|██▋       | 7145472/26421880 [00:16<00:43, 438586.95it/s]\n",
      " 27%|██▋       | 7215104/26421880 [00:16<00:41, 467570.33it/s]\n",
      " 51%|█████▏    | 13593600/26421880 [00:16<00:16, 763706.73it/s]\n",
      " 28%|██▊       | 7279616/26421880 [00:17<00:38, 495949.48it/s]\n",
      " 52%|█████▏    | 13728768/26421880 [00:17<00:16, 775905.65it/s]\n",
      " 28%|██▊       | 7330816/26421880 [00:17<00:39, 485968.66it/s]\n",
      " 52%|█████▏    | 13869056/26421880 [00:17<00:15, 793966.42it/s]\n",
      " 28%|██▊       | 7410688/26421880 [00:17<00:36, 526101.73it/s]\n",
      " 53%|█████▎    | 14002176/26421880 [00:17<00:13, 900812.96it/s]\n",
      " 28%|██▊       | 7480320/26421880 [00:17<00:34, 550227.50it/s]\n",
      " 53%|█████▎    | 14097408/26421880 [00:17<00:15, 786652.04it/s]\n",
      " 29%|██▊       | 7537664/26421880 [00:17<00:35, 528541.82it/s]\n",
      " 29%|██▉       | 7626752/26421880 [00:17<00:32, 587221.89it/s]\n",
      " 54%|█████▎    | 14182400/26421880 [00:17<00:17, 697094.37it/s]\n",
      " 29%|██▉       | 7702528/26421880 [00:17<00:31, 602036.22it/s]\n",
      " 54%|█████▍    | 14328832/26421880 [00:17<00:15, 778916.53it/s]\n",
      " 29%|██▉       | 7764992/26421880 [00:17<00:32, 581233.05it/s]\n",
      " 55%|█████▍    | 14469120/26421880 [00:17<00:13, 861108.96it/s]\n",
      " 30%|██▉       | 7865344/26421880 [00:17<00:28, 651759.29it/s]\n",
      " 55%|█████▌    | 14590976/26421880 [00:18<00:12, 943866.61it/s]\n",
      " 30%|███       | 7953408/26421880 [00:18<00:27, 672052.86it/s]\n",
      " 30%|███       | 8024064/26421880 [00:18<00:28, 641670.47it/s]\n",
      " 56%|█████▌    | 14693376/26421880 [00:18<00:13, 845485.06it/s]\n",
      " 31%|███       | 8137728/26421880 [00:18<00:24, 732849.23it/s]\n",
      " 56%|█████▌    | 14821376/26421880 [00:18<00:13, 881645.13it/s]\n",
      " 57%|█████▋    | 14976000/26421880 [00:18<00:11, 967004.81it/s]\n",
      " 31%|███       | 8233984/26421880 [00:18<00:24, 740109.68it/s]\n",
      " 31%|███▏      | 8312832/26421880 [00:18<00:26, 693256.28it/s]\n",
      " 57%|█████▋    | 15079424/26421880 [00:18<00:17, 660036.12it/s]\n",
      " 32%|███▏      | 8386560/26421880 [00:18<00:33, 543543.97it/s]\n",
      " 58%|█████▊    | 15304704/26421880 [00:18<00:13, 835704.95it/s]\n",
      " 32%|███▏      | 8583168/26421880 [00:18<00:26, 662113.18it/s]\n",
      " 58%|█████▊    | 15429632/26421880 [00:18<00:12, 863549.22it/s]\n",
      " 33%|███▎      | 8690688/26421880 [00:18<00:23, 747874.13it/s]\n",
      " 59%|█████▉    | 15545344/26421880 [00:19<00:12, 876572.08it/s]\n",
      " 33%|███▎      | 8781824/26421880 [00:19<00:25, 698761.55it/s]\n",
      " 59%|█████▉    | 15653888/26421880 [00:19<00:13, 807682.84it/s]\n",
      " 34%|███▎      | 8863744/26421880 [00:19<00:25, 687900.19it/s]\n",
      " 60%|█████▉    | 15750144/26421880 [00:19<00:14, 749082.82it/s]\n",
      " 34%|███▍      | 8943616/26421880 [00:19<00:27, 635504.04it/s]\n",
      " 60%|██████    | 15865856/26421880 [00:19<00:12, 817322.99it/s]\n",
      " 34%|███▍      | 9058304/26421880 [00:19<00:24, 711004.58it/s]\n",
      " 61%|██████    | 15995904/26421880 [00:19<00:11, 908067.08it/s]\n",
      " 35%|███▍      | 9137152/26421880 [00:19<00:24, 699536.00it/s]\n",
      " 61%|██████    | 16097280/26421880 [00:19<00:12, 810041.58it/s]\n",
      " 35%|███▍      | 9212928/26421880 [00:19<00:26, 654510.03it/s]\n",
      " 61%|██████▏   | 16187392/26421880 [00:19<00:13, 786513.81it/s]\n",
      " 35%|███▌      | 9333760/26421880 [00:19<00:22, 750577.12it/s]\n",
      " 62%|██████▏   | 16340992/26421880 [00:20<00:10, 919408.59it/s]\n",
      " 36%|███▌      | 9417728/26421880 [00:19<00:22, 760782.52it/s]\n",
      " 62%|██████▏   | 16446464/26421880 [00:20<00:10, 914920.25it/s]\n",
      " 36%|███▌      | 9499648/26421880 [00:20<00:23, 709833.25it/s]\n",
      " 63%|██████▎   | 16547840/26421880 [00:20<00:11, 837902.82it/s]\n",
      " 36%|███▋      | 9619456/26421880 [00:20<00:20, 801331.26it/s]\n",
      " 63%|██████▎   | 16676864/26421880 [00:20<00:10, 932893.75it/s]\n",
      " 37%|███▋      | 9707520/26421880 [00:20<00:20, 809941.05it/s]\n",
      " 64%|██████▎   | 16809984/26421880 [00:20<00:09, 1018604.50it/s]\n",
      " 37%|███▋      | 9794560/26421880 [00:20<00:22, 747755.32it/s]\n",
      " 64%|██████▍   | 16920576/26421880 [00:20<00:10, 934484.61it/s] \n",
      " 38%|███▊      | 9919488/26421880 [00:20<00:19, 839457.09it/s]\n",
      " 64%|██████▍   | 17024000/26421880 [00:20<00:10, 904313.62it/s]\n",
      " 38%|███▊      | 10010624/26421880 [00:20<00:19, 837899.99it/s]\n",
      " 65%|██████▌   | 17195008/26421880 [00:20<00:09, 1020724.12it/s]\n",
      " 38%|███▊      | 10099712/26421880 [00:20<00:20, 784334.64it/s]\n",
      " 66%|██████▌   | 17306624/26421880 [00:20<00:09, 1005722.30it/s]\n",
      " 39%|███▊      | 10224640/26421880 [00:20<00:18, 874012.37it/s]\n",
      " 39%|███▉      | 10318848/26421880 [00:21<00:18, 871264.66it/s]\n",
      " 66%|██████▌   | 17414144/26421880 [00:21<00:09, 904117.79it/s] \n",
      " 39%|███▉      | 10411008/26421880 [00:21<00:19, 802372.48it/s]\n",
      " 66%|██████▋   | 17557504/26421880 [00:21<00:09, 969407.13it/s]\n",
      " 40%|███▉      | 10541056/26421880 [00:21<00:17, 903146.80it/s]\n",
      " 67%|██████▋   | 17729536/26421880 [00:21<00:07, 1106721.82it/s]\n",
      " 40%|████      | 10639360/26421880 [00:21<00:17, 888213.42it/s]\n",
      " 68%|██████▊   | 17851392/26421880 [00:21<00:08, 1047546.70it/s]\n",
      " 41%|████      | 10839040/26421880 [00:21<00:17, 889477.56it/s]\n",
      " 68%|██████▊   | 17965056/26421880 [00:21<00:09, 933235.42it/s] \n",
      " 69%|██████▊   | 18104320/26421880 [00:21<00:08, 929937.83it/s]\n",
      " 41%|████▏     | 10932224/26421880 [00:21<00:17, 872864.14it/s]\n",
      " 69%|██████▉   | 18289664/26421880 [00:21<00:08, 975765.31it/s]\n",
      " 42%|████▏     | 11040768/26421880 [00:21<00:17, 855140.42it/s]\n",
      " 42%|████▏     | 11138048/26421880 [00:21<00:17, 886912.81it/s]\n",
      " 70%|██████▉   | 18476032/26421880 [00:22<00:07, 1013359.52it/s]\n",
      " 43%|████▎     | 11240448/26421880 [00:22<00:16, 906236.93it/s]\n",
      " 71%|███████   | 18661376/26421880 [00:22<00:06, 1172321.75it/s]\n",
      " 43%|████▎     | 11365376/26421880 [00:22<00:16, 885717.65it/s]\n",
      " 71%|███████   | 18790400/26421880 [00:22<00:06, 1133419.91it/s]\n",
      " 43%|████▎     | 11471872/26421880 [00:22<00:16, 932676.40it/s]\n",
      " 72%|███████▏  | 18912256/26421880 [00:22<00:07, 1038673.54it/s]\n",
      " 44%|████▍     | 11567104/26421880 [00:22<00:16, 902110.71it/s]\n",
      " 44%|████▍     | 11691008/26421880 [00:22<00:16, 904152.97it/s]\n",
      " 72%|███████▏  | 19038208/26421880 [00:22<00:07, 986099.01it/s] \n",
      " 45%|████▍     | 11792384/26421880 [00:22<00:15, 917871.00it/s]\n",
      " 73%|███████▎  | 19225600/26421880 [00:22<00:07, 1023211.87it/s]\n",
      " 45%|████▌     | 11890688/26421880 [00:22<00:15, 928885.26it/s]\n",
      " 73%|███████▎  | 19414016/26421880 [00:22<00:06, 1054401.91it/s]\n",
      " 45%|████▌     | 12014592/26421880 [00:22<00:15, 919352.79it/s]\n",
      " 74%|███████▍  | 19601408/26421880 [00:23<00:06, 1078088.08it/s]\n",
      " 46%|████▌     | 12119040/26421880 [00:23<00:15, 923712.83it/s]\n",
      " 46%|████▌     | 12216320/26421880 [00:23<00:15, 918877.80it/s]\n",
      " 75%|███████▍  | 19788800/26421880 [00:23<00:06, 1094169.94it/s]\n",
      " 47%|████▋     | 12339200/26421880 [00:23<00:15, 935098.63it/s]\n",
      " 47%|████▋     | 12438528/26421880 [00:23<00:14, 949485.27it/s]\n",
      " 76%|███████▌  | 19976192/26421880 [00:23<00:06, 1071700.89it/s]\n",
      " 47%|████▋     | 12540928/26421880 [00:23<00:15, 906061.28it/s]\n",
      " 76%|███████▋  | 20163584/26421880 [00:23<00:05, 1084848.32it/s]\n",
      " 48%|████▊     | 12664832/26421880 [00:23<00:14, 940021.55it/s]\n",
      " 48%|████▊     | 12760064/26421880 [00:23<00:14, 942002.71it/s]\n",
      " 77%|███████▋  | 20349952/26421880 [00:23<00:05, 1109473.26it/s]\n",
      " 49%|████▊     | 12855296/26421880 [00:23<00:14, 942595.72it/s]\n",
      " 78%|███████▊  | 20537344/26421880 [00:23<00:05, 1101359.98it/s]\n",
      " 49%|████▉     | 12964864/26421880 [00:23<00:13, 970092.79it/s]\n",
      " 49%|████▉     | 13063168/26421880 [00:24<00:14, 950680.25it/s]\n",
      " 78%|███████▊  | 20725760/26421880 [00:24<00:05, 1112664.63it/s]\n",
      " 50%|████▉     | 13159424/26421880 [00:24<00:15, 869280.68it/s]\n",
      " 79%|███████▉  | 20913152/26421880 [00:24<00:04, 1112261.44it/s]\n",
      " 50%|█████     | 13288448/26421880 [00:24<00:13, 951664.88it/s]\n",
      " 51%|█████     | 13387776/26421880 [00:24<00:13, 938642.19it/s]\n",
      " 80%|███████▉  | 21100544/26421880 [00:24<00:04, 1107008.39it/s]\n",
      " 51%|█████     | 13485056/26421880 [00:24<00:14, 868019.91it/s]\n",
      " 52%|█████▏    | 13607936/26421880 [00:24<00:13, 951246.51it/s]\n",
      " 81%|████████  | 21287936/26421880 [00:24<00:04, 1109650.80it/s]\n",
      " 52%|█████▏    | 13708288/26421880 [00:24<00:13, 923942.39it/s]\n",
      " 52%|█████▏    | 13805568/26421880 [00:24<00:14, 882338.90it/s]\n",
      " 81%|████████  | 21431296/26421880 [00:24<00:05, 882686.87it/s] \n",
      " 53%|█████▎    | 13930496/26421880 [00:24<00:12, 964250.97it/s]\n",
      " 82%|████████▏ | 21647360/26421880 [00:24<00:04, 1042087.90it/s]\n",
      " 53%|█████▎    | 14031872/26421880 [00:25<00:13, 922921.52it/s]\n",
      " 82%|████████▏ | 21769216/26421880 [00:25<00:05, 806064.92it/s] \n",
      " 54%|█████▎    | 14136320/26421880 [00:25<00:13, 892201.08it/s]\n",
      " 83%|████████▎ | 21910528/26421880 [00:25<00:04, 916735.76it/s]\n",
      " 54%|█████▍    | 14242816/26421880 [00:25<00:13, 925537.73it/s]\n",
      " 54%|█████▍    | 14338048/26421880 [00:25<00:13, 896259.51it/s]\n",
      " 83%|████████▎ | 22022144/26421880 [00:25<00:05, 801000.15it/s]\n",
      " 55%|█████▍    | 14471168/26421880 [00:25<00:12, 934535.23it/s]\n",
      " 84%|████████▎ | 22118400/26421880 [00:25<00:05, 719361.72it/s]\n",
      " 55%|█████▌    | 14580736/26421880 [00:25<00:12, 966876.36it/s]\n",
      " 84%|████████▍ | 22204416/26421880 [00:25<00:05, 704950.27it/s]\n",
      " 56%|█████▌    | 14679040/26421880 [00:25<00:12, 903461.40it/s]\n",
      " 56%|█████▌    | 14811136/26421880 [00:25<00:12, 960673.56it/s]\n",
      " 84%|████████▍ | 22310912/26421880 [00:25<00:06, 680755.69it/s]\n",
      " 56%|█████▋    | 14925824/26421880 [00:25<00:11, 999101.29it/s]\n",
      " 57%|█████▋    | 15028224/26421880 [00:26<00:12, 930085.38it/s]\n",
      " 85%|████████▍ | 22416384/26421880 [00:26<00:06, 666282.62it/s]\n",
      " 57%|█████▋    | 15160320/26421880 [00:26<00:11, 986372.73it/s]\n",
      " 85%|████████▌ | 22515712/26421880 [00:26<00:05, 738086.57it/s]\n",
      " 58%|█████▊    | 15279104/26421880 [00:26<00:10, 1031990.62it/s]\n",
      " 86%|████████▌ | 22595584/26421880 [00:26<00:05, 646459.00it/s]\n",
      " 86%|████████▌ | 22666240/26421880 [00:26<00:06, 619339.10it/s]\n",
      " 58%|█████▊    | 15385600/26421880 [00:26<00:11, 948039.80it/s] \n",
      " 86%|████████▌ | 22744064/26421880 [00:26<00:05, 616237.11it/s]\n",
      " 59%|█████▊    | 15519744/26421880 [00:26<00:10, 1014106.43it/s]\n",
      " 59%|█████▉    | 15651840/26421880 [00:26<00:09, 1079693.17it/s]\n",
      " 87%|████████▋ | 22857728/26421880 [00:26<00:05, 634293.03it/s]\n",
      " 60%|█████▉    | 15763456/26421880 [00:26<00:10, 985472.81it/s] \n",
      " 60%|██████    | 15892480/26421880 [00:26<00:10, 1040741.29it/s]\n",
      " 87%|████████▋ | 22972416/26421880 [00:26<00:05, 650665.03it/s]\n",
      " 61%|██████    | 16009216/26421880 [00:27<00:09, 1065889.28it/s]\n",
      " 87%|████████▋ | 23063552/26421880 [00:27<00:04, 704193.46it/s]\n",
      " 61%|██████    | 16118784/26421880 [00:27<00:10, 1020963.29it/s]\n",
      " 88%|████████▊ | 23137280/26421880 [00:27<00:04, 673977.26it/s]\n",
      " 62%|██████▏   | 16271360/26421880 [00:27<00:08, 1129866.85it/s]\n",
      " 88%|████████▊ | 23206912/26421880 [00:27<00:04, 646017.42it/s]\n",
      " 62%|██████▏   | 16390144/26421880 [00:27<00:09, 1081970.21it/s]\n",
      " 88%|████████▊ | 23297024/26421880 [00:27<00:04, 703616.77it/s]\n",
      " 62%|██████▏   | 16508928/26421880 [00:27<00:09, 1022407.92it/s]\n",
      " 88%|████████▊ | 23370752/26421880 [00:27<00:04, 668409.51it/s]\n",
      " 63%|██████▎   | 16688128/26421880 [00:27<00:08, 1169528.87it/s]\n",
      " 89%|████████▊ | 23440384/26421880 [00:27<00:04, 644201.29it/s]\n",
      " 64%|██████▎   | 16815104/26421880 [00:27<00:08, 1097764.41it/s]\n",
      " 89%|████████▉ | 23506944/26421880 [00:27<00:06, 459038.57it/s]\n",
      " 64%|██████▍   | 16932864/26421880 [00:27<00:10, 904540.93it/s] \n",
      " 90%|████████▉ | 23658496/26421880 [00:28<00:04, 571878.22it/s]\n",
      " 65%|██████▍   | 17092608/26421880 [00:28<00:10, 913205.07it/s]\n",
      " 90%|████████▉ | 23737344/26421880 [00:28<00:05, 455498.69it/s]\n",
      " 65%|██████▌   | 17191936/26421880 [00:28<00:12, 742016.37it/s]\n",
      " 90%|█████████ | 23831552/26421880 [00:28<00:04, 537419.71it/s]\n",
      " 66%|██████▌   | 17380352/26421880 [00:28<00:10, 839872.35it/s]\n",
      " 90%|█████████ | 23904256/26421880 [00:28<00:05, 464469.04it/s]\n",
      " 66%|██████▌   | 17488896/26421880 [00:28<00:11, 760419.12it/s]\n",
      " 91%|█████████ | 23966720/26421880 [00:28<00:05, 433596.40it/s]\n",
      " 67%|██████▋   | 17601536/26421880 [00:28<00:11, 749524.15it/s]\n",
      " 91%|█████████ | 24022016/26421880 [00:28<00:05, 437871.84it/s]\n",
      " 67%|██████▋   | 17720320/26421880 [00:28<00:11, 729975.56it/s]\n",
      " 91%|█████████ | 24074240/26421880 [00:29<00:05, 409736.57it/s]\n",
      " 91%|█████████▏| 24129536/26421880 [00:29<00:05, 402819.90it/s]\n",
      " 68%|██████▊   | 17842176/26421880 [00:29<00:11, 723428.99it/s]\n",
      " 92%|█████████▏| 24184832/26421880 [00:29<00:05, 426952.39it/s]\n",
      " 68%|██████▊   | 17967104/26421880 [00:29<00:11, 723850.17it/s]\n",
      " 92%|█████████▏| 24230912/26421880 [00:29<00:05, 408644.87it/s]\n",
      " 92%|█████████▏| 24274944/26421880 [00:29<00:05, 394683.97it/s]\n",
      " 68%|██████▊   | 18093056/26421880 [00:29<00:11, 726537.99it/s]\n",
      " 69%|██████▉   | 18220032/26421880 [00:29<00:11, 728687.72it/s]\n",
      " 92%|█████████▏| 24336384/26421880 [00:29<00:05, 401092.59it/s]\n",
      " 92%|█████████▏| 24398848/26421880 [00:29<00:04, 435877.32it/s]\n",
      " 69%|██████▉   | 18349056/26421880 [00:29<00:10, 734013.34it/s]\n",
      " 93%|█████████▎| 24444928/26421880 [00:29<00:04, 418810.48it/s]\n",
      " 93%|█████████▎| 24488960/26421880 [00:30<00:04, 415871.96it/s]\n",
      " 70%|██████▉   | 18480128/26421880 [00:29<00:10, 742961.80it/s]\n",
      " 93%|█████████▎| 24543232/26421880 [00:30<00:04, 439763.14it/s]\n",
      " 70%|███████   | 18610176/26421880 [00:30<00:10, 743373.33it/s]\n",
      " 93%|█████████▎| 24588288/26421880 [00:30<00:04, 424021.32it/s]\n",
      " 93%|█████████▎| 24632320/26421880 [00:30<00:04, 416878.38it/s]\n",
      " 71%|███████   | 18743296/26421880 [00:30<00:10, 751973.05it/s]\n",
      " 93%|█████████▎| 24688640/26421880 [00:30<00:03, 434297.58it/s]\n",
      " 71%|███████▏  | 18866176/26421880 [00:30<00:09, 828845.75it/s]\n",
      " 94%|█████████▎| 24733696/26421880 [00:30<00:04, 395989.31it/s]\n",
      " 72%|███████▏  | 18952192/26421880 [00:30<00:09, 809575.43it/s]\n",
      " 94%|█████████▍| 24794112/26421880 [00:30<00:03, 438093.14it/s]\n",
      " 72%|███████▏  | 19035136/26421880 [00:30<00:10, 694803.39it/s]\n",
      " 94%|█████████▍| 24841216/26421880 [00:30<00:03, 444635.20it/s]\n",
      " 72%|███████▏  | 19145728/26421880 [00:30<00:10, 724767.50it/s]\n",
      " 94%|█████████▍| 24887296/26421880 [00:30<00:03, 409752.48it/s]\n",
      " 73%|███████▎  | 19268608/26421880 [00:30<00:08, 809427.33it/s]\n",
      " 94%|█████████▍| 24932352/26421880 [00:31<00:03, 420637.60it/s]\n",
      " 73%|███████▎  | 19355648/26421880 [00:31<00:08, 792054.04it/s]\n",
      " 95%|█████████▍| 24986624/26421880 [00:31<00:03, 444074.35it/s]\n",
      " 74%|███████▎  | 19439616/26421880 [00:31<00:10, 689189.81it/s]\n",
      " 95%|█████████▍| 25032704/26421880 [00:31<00:03, 416763.04it/s]\n",
      " 95%|█████████▍| 25078784/26421880 [00:31<00:03, 427908.48it/s]\n",
      " 74%|███████▍  | 19549184/26421880 [00:31<00:09, 723427.03it/s]\n",
      " 95%|█████████▌| 25125888/26421880 [00:31<00:02, 436345.31it/s]\n",
      " 74%|███████▍  | 19672064/26421880 [00:31<00:08, 809530.10it/s]\n",
      " 95%|█████████▌| 25170944/26421880 [00:31<00:03, 389314.89it/s]\n",
      " 75%|███████▍  | 19760128/26421880 [00:31<00:09, 726230.58it/s]\n",
      " 95%|█████████▌| 25224192/26421880 [00:31<00:03, 370834.21it/s]\n",
      " 75%|███████▌  | 19838976/26421880 [00:31<00:10, 606894.14it/s]\n",
      " 96%|█████████▌| 25298944/26421880 [00:31<00:02, 391306.19it/s]\n",
      " 75%|███████▌  | 19907584/26421880 [00:31<00:12, 503030.51it/s]\n",
      " 96%|█████████▌| 25373696/26421880 [00:32<00:02, 362866.13it/s]\n",
      " 76%|███████▌  | 20044800/26421880 [00:32<00:11, 549457.38it/s]\n",
      " 96%|█████████▋| 25448448/26421880 [00:32<00:02, 376243.75it/s]\n",
      " 76%|███████▌  | 20139008/26421880 [00:32<00:11, 539032.04it/s]\n",
      " 97%|█████████▋| 25509888/26421880 [00:32<00:02, 357616.98it/s]\n",
      " 76%|███████▋  | 20198400/26421880 [00:32<00:14, 442084.56it/s]\n",
      " 97%|█████████▋| 25546752/26421880 [00:32<00:02, 313115.20it/s]\n",
      " 77%|███████▋  | 20249600/26421880 [00:32<00:15, 394810.52it/s]\n",
      " 97%|█████████▋| 25639936/26421880 [00:32<00:02, 361129.15it/s]\n",
      " 77%|███████▋  | 20368384/26421880 [00:32<00:13, 453789.15it/s]\n",
      " 97%|█████████▋| 25696256/26421880 [00:33<00:02, 353041.00it/s]\n",
      " 77%|███████▋  | 20440064/26421880 [00:33<00:12, 483471.46it/s]\n",
      " 97%|█████████▋| 25754624/26421880 [00:33<00:01, 336451.13it/s]\n",
      " 78%|███████▊  | 20517888/26421880 [00:33<00:13, 435700.45it/s]\n",
      " 98%|█████████▊| 25816064/26421880 [00:33<00:01, 341715.20it/s]\n",
      " 78%|███████▊  | 20595712/26421880 [00:33<00:13, 433863.50it/s]\n",
      " 98%|█████████▊| 25881600/26421880 [00:33<00:01, 356121.60it/s]\n",
      " 78%|███████▊  | 20677632/26421880 [00:33<00:12, 445469.09it/s]\n",
      " 98%|█████████▊| 25949184/26421880 [00:33<00:01, 370251.03it/s]\n",
      " 79%|███████▊  | 20760576/26421880 [00:33<00:12, 454811.40it/s]\n",
      " 98%|█████████▊| 26017792/26421880 [00:33<00:01, 383144.88it/s]\n",
      " 79%|███████▉  | 20845568/26421880 [00:33<00:11, 466531.03it/s]\n",
      " 99%|█████████▊| 26088448/26421880 [00:34<00:00, 393601.08it/s]\n",
      " 79%|███████▉  | 20929536/26421880 [00:34<00:11, 472034.35it/s]\n",
      " 99%|█████████▉| 26160128/26421880 [00:34<00:00, 377823.46it/s]\n",
      " 79%|███████▉  | 21005312/26421880 [00:34<00:11, 460750.85it/s]\n",
      " 99%|█████████▉| 26232832/26421880 [00:34<00:00, 382677.09it/s]\n",
      " 80%|███████▉  | 21093376/26421880 [00:34<00:11, 455576.85it/s]\n",
      "100%|█████████▉| 26307584/26421880 [00:34<00:00, 396322.15it/s]\n",
      " 80%|████████  | 21181440/26421880 [00:34<00:11, 469510.74it/s]\n",
      "26422272it [00:34, 758920.16it/s]                              \n",
      " 81%|████████  | 21270528/26421880 [00:34<00:10, 481400.61it/s]\n"
     ]
    },
    {
     "name": "stdout",
     "output_type": "stream",
     "text": [
      "\u001b[2m\u001b[36m(BaseWorkerMixin pid=65719)\u001b[0m Extracting data/FashionMNIST/raw/train-images-idx3-ubyte.gz to data/FashionMNIST/raw\n"
     ]
    },
    {
     "name": "stderr",
     "output_type": "stream",
     "text": [
      " 81%|████████  | 21357568/26421880 [00:34<00:09, 509033.29it/s]\n",
      " 81%|████████  | 21446656/26421880 [00:35<00:10, 489444.95it/s]\n"
     ]
    },
    {
     "name": "stdout",
     "output_type": "stream",
     "text": [
      "\u001b[2m\u001b[36m(BaseWorkerMixin pid=65719)\u001b[0m \n",
      "\u001b[2m\u001b[36m(BaseWorkerMixin pid=65719)\u001b[0m Downloading http://fashion-mnist.s3-website.eu-central-1.amazonaws.com/train-labels-idx1-ubyte.gz\n"
     ]
    },
    {
     "name": "stderr",
     "output_type": "stream",
     "text": [
      " 81%|████████▏ | 21532672/26421880 [00:35<00:09, 507597.24it/s]\n",
      " 82%|████████▏ | 21621760/26421880 [00:35<00:09, 508801.97it/s]\n"
     ]
    },
    {
     "name": "stdout",
     "output_type": "stream",
     "text": [
      "\u001b[2m\u001b[36m(BaseWorkerMixin pid=65719)\u001b[0m Downloading http://fashion-mnist.s3-website.eu-central-1.amazonaws.com/train-labels-idx1-ubyte.gz to data/FashionMNIST/raw/train-labels-idx1-ubyte.gz\n"
     ]
    },
    {
     "name": "stderr",
     "output_type": "stream",
     "text": [
      " 82%|████████▏ | 21709824/26421880 [00:35<00:09, 510179.69it/s]\n",
      " 83%|████████▎ | 21798912/26421880 [00:35<00:09, 507491.68it/s]\n",
      "  0%|          | 0/29515 [00:00<?, ?it/s]\n",
      " 83%|████████▎ | 21888000/26421880 [00:36<00:08, 509308.94it/s]\n"
     ]
    },
    {
     "name": "stdout",
     "output_type": "stream",
     "text": [
      "\u001b[2m\u001b[36m(BaseWorkerMixin pid=65719)\u001b[0m Extracting data/FashionMNIST/raw/train-labels-idx1-ubyte.gz to data/FashionMNIST/raw\n",
      "\u001b[2m\u001b[36m(BaseWorkerMixin pid=65719)\u001b[0m \n",
      "\u001b[2m\u001b[36m(BaseWorkerMixin pid=65719)\u001b[0m Downloading http://fashion-mnist.s3-website.eu-central-1.amazonaws.com/t10k-images-idx3-ubyte.gz\n"
     ]
    },
    {
     "name": "stderr",
     "output_type": "stream",
     "text": [
      "29696it [00:00, 168481.12it/s]                          \n",
      " 83%|████████▎ | 21977088/26421880 [00:36<00:08, 510392.32it/s]\n",
      " 84%|████████▎ | 22065152/26421880 [00:36<00:08, 502638.61it/s]\n"
     ]
    },
    {
     "name": "stdout",
     "output_type": "stream",
     "text": [
      "\u001b[2m\u001b[36m(BaseWorkerMixin pid=65719)\u001b[0m Downloading http://fashion-mnist.s3-website.eu-central-1.amazonaws.com/t10k-images-idx3-ubyte.gz to data/FashionMNIST/raw/t10k-images-idx3-ubyte.gz\n"
     ]
    },
    {
     "name": "stderr",
     "output_type": "stream",
     "text": [
      " 84%|████████▍ | 22154240/26421880 [00:36<00:08, 483425.54it/s]\n",
      " 84%|████████▍ | 22243328/26421880 [00:36<00:08, 490229.74it/s]\n",
      " 85%|████████▍ | 22331392/26421880 [00:36<00:08, 495330.58it/s]\n",
      "  0%|          | 0/4422102 [00:00<?, ?it/s]\n",
      "  0%|          | 13312/4422102 [00:00<01:01, 71128.66it/s]\n",
      " 85%|████████▍ | 22421504/26421880 [00:37<00:08, 494610.32it/s]\n",
      " 85%|████████▌ | 22512640/26421880 [00:37<00:07, 501899.58it/s]\n",
      "  1%|          | 44032/4422102 [00:00<00:49, 88693.47it/s]\n",
      "  2%|▏         | 103424/4422102 [00:00<00:38, 113073.40it/s]\n",
      " 86%|████████▌ | 22603776/26421880 [00:37<00:07, 509613.68it/s]\n",
      " 86%|████████▌ | 22693888/26421880 [00:37<00:07, 522248.81it/s]\n",
      "  4%|▍         | 174080/4422102 [00:00<00:31, 134399.04it/s]\n",
      " 86%|████████▌ | 22787072/26421880 [00:37<00:06, 527325.84it/s]\n",
      "  4%|▍         | 192512/4422102 [00:01<00:35, 120513.30it/s]\n",
      " 86%|████████▋ | 22840320/26421880 [00:38<00:08, 406181.90it/s]\n",
      " 87%|████████▋ | 22944768/26421880 [00:38<00:07, 469974.69it/s]\n",
      " 10%|█         | 450560/4422102 [00:01<00:23, 165986.45it/s]\n",
      " 87%|████████▋ | 23013376/26421880 [00:38<00:07, 446061.81it/s]\n",
      " 12%|█▏        | 518144/4422102 [00:01<00:21, 182618.76it/s]\n",
      " 87%|████████▋ | 23081984/26421880 [00:38<00:07, 434963.52it/s]\n",
      " 13%|█▎        | 562176/4422102 [00:01<00:19, 193379.06it/s]\n",
      " 88%|████████▊ | 23156736/26421880 [00:38<00:07, 431799.91it/s]\n",
      " 15%|█▌        | 676864/4422102 [00:01<00:15, 237014.80it/s]\n",
      " 88%|████████▊ | 23235584/26421880 [00:38<00:07, 439193.65it/s]\n",
      " 88%|████████▊ | 23317504/26421880 [00:39<00:06, 448704.42it/s]\n",
      " 17%|█▋        | 744448/4422102 [00:02<00:13, 264925.77it/s]\n",
      " 89%|████████▊ | 23400448/26421880 [00:39<00:06, 457578.89it/s]\n",
      " 18%|█▊        | 817152/4422102 [00:02<00:12, 292453.21it/s]\n",
      " 89%|████████▉ | 23486464/26421880 [00:39<00:06, 440906.69it/s]\n",
      " 20%|██        | 889856/4422102 [00:02<00:12, 290201.93it/s]\n",
      " 89%|████████▉ | 23531520/26421880 [00:39<00:07, 387584.37it/s]\n",
      " 22%|██▏       | 964608/4422102 [00:02<00:10, 316753.08it/s]\n",
      " 89%|████████▉ | 23591936/26421880 [00:39<00:07, 375646.89it/s]\n",
      " 23%|██▎       | 1034240/4422102 [00:02<00:10, 325958.12it/s]\n",
      " 90%|████████▉ | 23682048/26421880 [00:39<00:06, 411114.85it/s]\n",
      " 90%|████████▉ | 23774208/26421880 [00:40<00:06, 441221.19it/s]\n",
      " 24%|██▍       | 1071104/4422102 [00:03<00:11, 279958.99it/s]\n",
      " 26%|██▋       | 1169408/4422102 [00:03<00:10, 324553.93it/s]\n",
      " 90%|█████████ | 23867392/26421880 [00:40<00:05, 465659.23it/s]\n",
      " 91%|█████████ | 23959552/26421880 [00:40<00:05, 483074.58it/s]\n",
      " 28%|██▊       | 1224704/4422102 [00:03<00:10, 311772.31it/s]\n",
      " 91%|█████████ | 24054784/26421880 [00:40<00:04, 498520.03it/s]\n",
      " 29%|██▉       | 1284096/4422102 [00:03<00:10, 307620.22it/s]\n",
      " 91%|█████████▏| 24140800/26421880 [00:40<00:04, 501407.23it/s]\n",
      " 30%|███       | 1345536/4422102 [00:03<00:09, 313656.71it/s]\n",
      " 92%|█████████▏| 24235008/26421880 [00:40<00:04, 505129.67it/s]\n",
      " 32%|███▏      | 1408000/4422102 [00:04<00:09, 320510.23it/s]\n",
      " 92%|█████████▏| 24329216/26421880 [00:41<00:04, 516912.25it/s]\n",
      " 33%|███▎      | 1470464/4422102 [00:04<00:08, 362968.96it/s]\n",
      " 35%|███▍      | 1533952/4422102 [00:04<00:08, 357056.14it/s]\n",
      " 92%|█████████▏| 24424448/26421880 [00:41<00:03, 515642.80it/s]\n",
      " 36%|███▌      | 1594368/4422102 [00:04<00:06, 406974.59it/s]\n",
      " 93%|█████████▎| 24518656/26421880 [00:41<00:03, 516730.71it/s]\n",
      " 37%|███▋      | 1639424/4422102 [00:04<00:07, 348522.68it/s]\n",
      " 93%|█████████▎| 24612864/26421880 [00:41<00:03, 526306.08it/s]\n",
      " 38%|███▊      | 1679360/4422102 [00:04<00:09, 291521.59it/s]\n",
      " 94%|█████████▎| 24705024/26421880 [00:41<00:03, 534650.87it/s]\n",
      " 94%|█████████▍| 24799232/26421880 [00:41<00:03, 538093.48it/s]\n",
      " 39%|███▉      | 1727488/4422102 [00:04<00:09, 281219.50it/s]\n",
      " 41%|████      | 1794048/4422102 [00:05<00:08, 301081.25it/s]\n",
      " 94%|█████████▍| 24892416/26421880 [00:42<00:02, 519263.69it/s]\n",
      " 42%|████▏     | 1859584/4422102 [00:05<00:08, 313430.72it/s]\n",
      " 95%|█████████▍| 24986624/26421880 [00:42<00:02, 517292.09it/s]\n",
      " 44%|████▎     | 1925120/4422102 [00:05<00:07, 322436.81it/s]\n",
      " 95%|█████████▍| 25080832/26421880 [00:42<00:02, 521428.52it/s]\n",
      " 95%|█████████▌| 25176064/26421880 [00:42<00:02, 530986.68it/s]\n",
      " 45%|████▌     | 1991680/4422102 [00:05<00:07, 333498.96it/s]\n",
      " 47%|████▋     | 2057216/4422102 [00:05<00:06, 339730.31it/s]\n",
      " 96%|█████████▌| 25269248/26421880 [00:42<00:02, 533846.23it/s]\n",
      " 96%|█████████▌| 25361408/26421880 [00:43<00:01, 540654.23it/s]\n",
      " 48%|████▊     | 2122752/4422102 [00:06<00:06, 343361.90it/s]\n",
      " 96%|█████████▋| 25457664/26421880 [00:43<00:01, 545734.36it/s]\n",
      " 50%|████▉     | 2189312/4422102 [00:06<00:06, 347934.96it/s]\n",
      " 97%|█████████▋| 25553920/26421880 [00:43<00:01, 550184.00it/s]\n",
      " 51%|█████     | 2254848/4422102 [00:06<00:06, 346453.95it/s]\n",
      " 97%|█████████▋| 25651200/26421880 [00:43<00:01, 554867.29it/s]\n",
      " 52%|█████▏    | 2320384/4422102 [00:06<00:05, 376021.47it/s]\n",
      " 97%|█████████▋| 25748480/26421880 [00:43<00:01, 557912.13it/s]\n",
      " 54%|█████▍    | 2387968/4422102 [00:06<00:05, 345779.63it/s]\n",
      " 98%|█████████▊| 25847808/26421880 [00:43<00:01, 557012.93it/s]\n",
      " 56%|█████▌    | 2456576/4422102 [00:07<00:05, 353017.57it/s]\n",
      " 98%|█████████▊| 25947136/26421880 [00:44<00:00, 559501.32it/s]\n",
      " 57%|█████▋    | 2525184/4422102 [00:07<00:05, 358631.17it/s]\n",
      " 99%|█████████▊| 26049536/26421880 [00:44<00:00, 569968.24it/s]\n",
      " 59%|█████▊    | 2595840/4422102 [00:07<00:05, 364256.87it/s]\n",
      " 99%|█████████▉| 26151936/26421880 [00:44<00:00, 577474.58it/s]\n",
      " 60%|██████    | 2665472/4422102 [00:07<00:04, 366651.71it/s]\n",
      " 99%|█████████▉| 26258432/26421880 [00:44<00:00, 586137.76it/s]\n",
      " 62%|██████▏   | 2737152/4422102 [00:07<00:04, 372185.84it/s]\n",
      "26422272it [00:44, 589494.76it/s]                              \n"
     ]
    },
    {
     "name": "stdout",
     "output_type": "stream",
     "text": [
      "\u001b[2m\u001b[36m(BaseWorkerMixin pid=65720)\u001b[0m Extracting data/FashionMNIST/raw/train-images-idx3-ubyte.gz to data/FashionMNIST/raw\n"
     ]
    },
    {
     "name": "stderr",
     "output_type": "stream",
     "text": [
      " 64%|██████▎   | 2808832/4422102 [00:07<00:04, 373568.53it/s]\n",
      " 65%|██████▌   | 2879488/4422102 [00:08<00:03, 390090.70it/s]\n"
     ]
    },
    {
     "name": "stdout",
     "output_type": "stream",
     "text": [
      "\u001b[2m\u001b[36m(BaseWorkerMixin pid=65720)\u001b[0m \n",
      "\u001b[2m\u001b[36m(BaseWorkerMixin pid=65720)\u001b[0m Downloading http://fashion-mnist.s3-website.eu-central-1.amazonaws.com/train-labels-idx1-ubyte.gz\n"
     ]
    },
    {
     "name": "stderr",
     "output_type": "stream",
     "text": [
      " 67%|██████▋   | 2953216/4422102 [00:08<00:03, 392637.91it/s]\n",
      " 68%|██████▊   | 3028992/4422102 [00:08<00:03, 397447.30it/s]\n",
      " 70%|███████   | 3106816/4422102 [00:08<00:03, 404200.97it/s]\n"
     ]
    },
    {
     "name": "stdout",
     "output_type": "stream",
     "text": [
      "\u001b[2m\u001b[36m(BaseWorkerMixin pid=65720)\u001b[0m Downloading http://fashion-mnist.s3-website.eu-central-1.amazonaws.com/train-labels-idx1-ubyte.gz to data/FashionMNIST/raw/train-labels-idx1-ubyte.gz\n"
     ]
    },
    {
     "name": "stderr",
     "output_type": "stream",
     "text": [
      " 72%|███████▏  | 3185664/4422102 [00:08<00:03, 411558.46it/s]\n",
      "  0%|          | 0/29515 [00:00<?, ?it/s]\n",
      " 74%|███████▍  | 3267584/4422102 [00:09<00:02, 420690.33it/s]\n",
      "29696it [00:00, 169415.43it/s]                          \n"
     ]
    },
    {
     "name": "stdout",
     "output_type": "stream",
     "text": [
      "\u001b[2m\u001b[36m(BaseWorkerMixin pid=65720)\u001b[0m Extracting data/FashionMNIST/raw/train-labels-idx1-ubyte.gz to data/FashionMNIST/raw\n",
      "\u001b[2m\u001b[36m(BaseWorkerMixin pid=65720)\u001b[0m \n",
      "\u001b[2m\u001b[36m(BaseWorkerMixin pid=65720)\u001b[0m Downloading http://fashion-mnist.s3-website.eu-central-1.amazonaws.com/t10k-images-idx3-ubyte.gz\n"
     ]
    },
    {
     "name": "stderr",
     "output_type": "stream",
     "text": [
      " 76%|███████▌  | 3351552/4422102 [00:09<00:02, 430218.20it/s]\n",
      " 78%|███████▊  | 3436544/4422102 [00:09<00:01, 504536.32it/s]\n",
      " 79%|███████▉  | 3492864/4422102 [00:09<00:02, 445653.01it/s]\n"
     ]
    },
    {
     "name": "stdout",
     "output_type": "stream",
     "text": [
      "\u001b[2m\u001b[36m(BaseWorkerMixin pid=65720)\u001b[0m Downloading http://fashion-mnist.s3-website.eu-central-1.amazonaws.com/t10k-images-idx3-ubyte.gz to data/FashionMNIST/raw/t10k-images-idx3-ubyte.gz\n"
     ]
    },
    {
     "name": "stderr",
     "output_type": "stream",
     "text": [
      " 80%|████████  | 3543040/4422102 [00:09<00:02, 381079.49it/s]\n",
      " 82%|████████▏ | 3629056/4422102 [00:09<00:01, 447382.84it/s]\n",
      " 84%|████████▍ | 3724288/4422102 [00:09<00:01, 531553.10it/s]\n",
      "  0%|          | 0/4422102 [00:00<?, ?it/s]\n",
      " 86%|████████▌ | 3789824/4422102 [00:10<00:01, 481860.14it/s]\n",
      "  0%|          | 13312/4422102 [00:00<00:57, 76227.90it/s]\n",
      " 87%|████████▋ | 3848192/4422102 [00:10<00:01, 418769.44it/s]\n",
      "  1%|          | 44032/4422102 [00:00<00:47, 92003.43it/s]\n",
      " 89%|████████▉ | 3948544/4422102 [00:10<00:00, 506771.94it/s]\n",
      " 91%|█████████ | 4016128/4422102 [00:10<00:00, 547288.41it/s]\n",
      "  2%|▏         | 103424/4422102 [00:00<00:36, 117850.68it/s]\n",
      "  5%|▌         | 224256/4422102 [00:00<00:26, 157075.17it/s]\n",
      " 92%|█████████▏| 4082688/4422102 [00:10<00:00, 483970.89it/s]\n",
      " 95%|█████████▍| 4200448/4422102 [00:10<00:00, 521770.00it/s]\n",
      "  8%|▊         | 365568/4422102 [00:00<00:19, 203408.50it/s]\n",
      " 98%|█████████▊| 4325376/4422102 [00:10<00:00, 631233.94it/s]\n",
      " 14%|█▍        | 627712/4422102 [00:01<00:13, 278253.84it/s]\n",
      "4422656it [00:11, 401552.00it/s]                             \n"
     ]
    },
    {
     "name": "stdout",
     "output_type": "stream",
     "text": [
      "\u001b[2m\u001b[36m(BaseWorkerMixin pid=65719)\u001b[0m Extracting data/FashionMNIST/raw/t10k-images-idx3-ubyte.gz to data/FashionMNIST/raw\n",
      "\u001b[2m\u001b[36m(BaseWorkerMixin pid=65719)\u001b[0m \n",
      "\u001b[2m\u001b[36m(BaseWorkerMixin pid=65719)\u001b[0m Downloading http://fashion-mnist.s3-website.eu-central-1.amazonaws.com/t10k-labels-idx1-ubyte.gz\n"
     ]
    },
    {
     "name": "stderr",
     "output_type": "stream",
     "text": [
      " 19%|█▊        | 828416/4422102 [00:01<00:10, 350383.20it/s]\n",
      " 21%|██        | 917504/4422102 [00:01<00:08, 406140.62it/s]\n",
      " 29%|██▉       | 1280000/4422102 [00:01<00:05, 539032.66it/s]\n"
     ]
    },
    {
     "name": "stdout",
     "output_type": "stream",
     "text": [
      "\u001b[2m\u001b[36m(BaseWorkerMixin pid=65719)\u001b[0m Downloading http://fashion-mnist.s3-website.eu-central-1.amazonaws.com/t10k-labels-idx1-ubyte.gz to data/FashionMNIST/raw/t10k-labels-idx1-ubyte.gz\n"
     ]
    },
    {
     "name": "stderr",
     "output_type": "stream",
     "text": [
      " 33%|███▎      | 1474560/4422102 [00:01<00:04, 639895.97it/s]\n",
      " 38%|███▊      | 1673216/4422102 [00:01<00:03, 737244.37it/s]\n",
      "6144it [00:00, 32374125.35it/s]          \n",
      "\u001b[2m\u001b[36m(BaseWorkerMixin pid=65719)\u001b[0m /Users/jiaodong/anaconda3/envs/ray/lib/python3.6/site-packages/torchvision/datasets/mnist.py:498: UserWarning: The given NumPy array is not writeable, and PyTorch does not support non-writeable tensors. This means you can write to the underlying (supposedly non-writeable) NumPy array using the tensor. You may want to copy the array to protect its data or make it writeable before converting it to a tensor. This type of warning will be suppressed for the rest of this program. (Triggered internally at  ../torch/csrc/utils/tensor_numpy.cpp:180.)\n",
      "\u001b[2m\u001b[36m(BaseWorkerMixin pid=65719)\u001b[0m   return torch.from_numpy(parsed.astype(m[2], copy=False)).view(*s)\n",
      "\u001b[2m\u001b[36m(BaseWorkerMixin pid=65719)\u001b[0m 2022-07-13 10:40:05,951\tINFO train_loop_utils.py:299 -- Moving model to device: cpu\n",
      "\u001b[2m\u001b[36m(BaseWorkerMixin pid=65719)\u001b[0m 2022-07-13 10:40:05,951\tINFO train_loop_utils.py:343 -- Wrapping provided model in DDP.\n",
      " 42%|████▏     | 1876992/4422102 [00:02<00:03, 827830.08it/s]\n"
     ]
    },
    {
     "name": "stdout",
     "output_type": "stream",
     "text": [
      "\u001b[2m\u001b[36m(BaseWorkerMixin pid=65719)\u001b[0m Extracting data/FashionMNIST/raw/t10k-labels-idx1-ubyte.gz to data/FashionMNIST/raw\n",
      "\u001b[2m\u001b[36m(BaseWorkerMixin pid=65719)\u001b[0m \n"
     ]
    },
    {
     "name": "stderr",
     "output_type": "stream",
     "text": [
      " 47%|████▋     | 2082816/4422102 [00:02<00:02, 911041.47it/s]\n",
      " 52%|█████▏    | 2291712/4422102 [00:02<00:02, 985657.38it/s]\n",
      " 57%|█████▋    | 2505728/4422102 [00:02<00:01, 1046716.39it/s]\n",
      " 62%|██████▏   | 2719744/4422102 [00:02<00:01, 1095596.31it/s]\n",
      " 66%|██████▋   | 2938880/4422102 [00:02<00:01, 1142435.69it/s]\n",
      " 71%|███████▏  | 3156992/4422102 [00:03<00:00, 1332405.95it/s]\n",
      " 75%|███████▍  | 3308544/4422102 [00:03<00:00, 1222263.25it/s]\n",
      " 78%|███████▊  | 3445760/4422102 [00:03<00:00, 1105869.92it/s]\n",
      " 82%|████████▏ | 3607552/4422102 [00:03<00:00, 1177305.50it/s]\n",
      " 86%|████████▌ | 3790848/4422102 [00:03<00:00, 1298978.77it/s]\n",
      " 89%|████████▉ | 3932160/4422102 [00:03<00:00, 1228200.96it/s]\n",
      " 92%|█████████▏| 4064256/4422102 [00:03<00:00, 1202181.35it/s]\n",
      " 96%|█████████▌| 4245504/4422102 [00:03<00:00, 1335477.67it/s]\n"
     ]
    },
    {
     "name": "stdout",
     "output_type": "stream",
     "text": [
      "\u001b[2m\u001b[36m(BaseWorkerMixin pid=65720)\u001b[0m Extracting data/FashionMNIST/raw/t10k-images-idx3-ubyte.gz to data/FashionMNIST/raw\n",
      "\u001b[2m\u001b[36m(BaseWorkerMixin pid=65720)\u001b[0m \n",
      "\u001b[2m\u001b[36m(BaseWorkerMixin pid=65720)\u001b[0m Downloading http://fashion-mnist.s3-website.eu-central-1.amazonaws.com/t10k-labels-idx1-ubyte.gz\n"
     ]
    },
    {
     "name": "stderr",
     "output_type": "stream",
     "text": [
      "4422656it [00:04, 1087441.73it/s]                             \n"
     ]
    },
    {
     "name": "stdout",
     "output_type": "stream",
     "text": [
      "\u001b[2m\u001b[36m(BaseWorkerMixin pid=65720)\u001b[0m Downloading http://fashion-mnist.s3-website.eu-central-1.amazonaws.com/t10k-labels-idx1-ubyte.gz to data/FashionMNIST/raw/t10k-labels-idx1-ubyte.gz\n",
      "\u001b[2m\u001b[36m(BaseWorkerMixin pid=65720)\u001b[0m Extracting data/FashionMNIST/raw/t10k-labels-idx1-ubyte.gz to data/FashionMNIST/raw\n",
      "\u001b[2m\u001b[36m(BaseWorkerMixin pid=65720)\u001b[0m \n"
     ]
    },
    {
     "name": "stderr",
     "output_type": "stream",
     "text": [
      "6144it [00:00, 32869647.67it/s]          \n",
      "\u001b[2m\u001b[36m(BaseWorkerMixin pid=65720)\u001b[0m /Users/jiaodong/anaconda3/envs/ray/lib/python3.6/site-packages/torchvision/datasets/mnist.py:498: UserWarning: The given NumPy array is not writeable, and PyTorch does not support non-writeable tensors. This means you can write to the underlying (supposedly non-writeable) NumPy array using the tensor. You may want to copy the array to protect its data or make it writeable before converting it to a tensor. This type of warning will be suppressed for the rest of this program. (Triggered internally at  ../torch/csrc/utils/tensor_numpy.cpp:180.)\n",
      "\u001b[2m\u001b[36m(BaseWorkerMixin pid=65720)\u001b[0m   return torch.from_numpy(parsed.astype(m[2], copy=False)).view(*s)\n",
      "\u001b[2m\u001b[36m(BaseWorkerMixin pid=65720)\u001b[0m 2022-07-13 10:40:08,864\tINFO train_loop_utils.py:299 -- Moving model to device: cpu\n",
      "\u001b[2m\u001b[36m(BaseWorkerMixin pid=65720)\u001b[0m 2022-07-13 10:40:08,865\tINFO train_loop_utils.py:343 -- Wrapping provided model in DDP.\n"
     ]
    },
    {
     "name": "stdout",
     "output_type": "stream",
     "text": [
      "Result for TorchTrainer_b43fc_00000:\n",
      "  _time_this_iter_s: 63.3414740562439\n",
      "  _timestamp: 1657734019\n",
      "  _training_iteration: 1\n",
      "  date: 2022-07-13_10-40-19\n",
      "  done: false\n",
      "  experiment_id: 3b3c6e36d57a4e7993aacdbe6cd4c8ed\n",
      "  hostname: Jiaos-MacBook-Pro-16-inch-2019\n",
      "  iterations_since_restore: 1\n",
      "  loss: 2.138503299397268\n",
      "  node_ip: 127.0.0.1\n",
      "  pid: 65706\n",
      "  should_checkpoint: true\n",
      "  time_since_restore: 65.89588499069214\n",
      "  time_this_iter_s: 65.89588499069214\n",
      "  time_total_s: 65.89588499069214\n",
      "  timestamp: 1657734019\n",
      "  timesteps_since_restore: 0\n",
      "  training_iteration: 1\n",
      "  trial_id: b43fc_00000\n",
      "  warmup_time: 0.0036132335662841797\n",
      "  \n",
      "Result for TorchTrainer_b43fc_00000:\n",
      "  _time_this_iter_s: 10.146686792373657\n",
      "  _timestamp: 1657734029\n",
      "  _training_iteration: 2\n",
      "  date: 2022-07-13_10-40-29\n",
      "  done: false\n",
      "  experiment_id: 3b3c6e36d57a4e7993aacdbe6cd4c8ed\n",
      "  hostname: Jiaos-MacBook-Pro-16-inch-2019\n",
      "  iterations_since_restore: 2\n",
      "  loss: 1.8509214698888694\n",
      "  node_ip: 127.0.0.1\n",
      "  pid: 65706\n",
      "  should_checkpoint: true\n",
      "  time_since_restore: 76.03879189491272\n",
      "  time_this_iter_s: 10.142906904220581\n",
      "  time_total_s: 76.03879189491272\n",
      "  timestamp: 1657734029\n",
      "  timesteps_since_restore: 0\n",
      "  training_iteration: 2\n",
      "  trial_id: b43fc_00000\n",
      "  warmup_time: 0.0036132335662841797\n",
      "  \n",
      "Result for TorchTrainer_b43fc_00000:\n",
      "  _time_this_iter_s: 9.947705030441284\n",
      "  _timestamp: 1657734039\n",
      "  _training_iteration: 3\n",
      "  date: 2022-07-13_10-40-39\n",
      "  done: false\n",
      "  experiment_id: 3b3c6e36d57a4e7993aacdbe6cd4c8ed\n",
      "  hostname: Jiaos-MacBook-Pro-16-inch-2019\n",
      "  iterations_since_restore: 3\n",
      "  loss: 1.4779092612539886\n",
      "  node_ip: 127.0.0.1\n",
      "  pid: 65706\n",
      "  should_checkpoint: true\n",
      "  time_since_restore: 85.98426508903503\n",
      "  time_this_iter_s: 9.945473194122314\n",
      "  time_total_s: 85.98426508903503\n",
      "  timestamp: 1657734039\n",
      "  timesteps_since_restore: 0\n",
      "  training_iteration: 3\n",
      "  trial_id: b43fc_00000\n",
      "  warmup_time: 0.0036132335662841797\n",
      "  \n",
      "Result for TorchTrainer_b43fc_00000:\n",
      "  _time_this_iter_s: 10.695234060287476\n",
      "  _timestamp: 1657734050\n",
      "  _training_iteration: 4\n",
      "  date: 2022-07-13_10-40-50\n",
      "  done: false\n",
      "  experiment_id: 3b3c6e36d57a4e7993aacdbe6cd4c8ed\n",
      "  hostname: Jiaos-MacBook-Pro-16-inch-2019\n",
      "  iterations_since_restore: 4\n",
      "  loss: 1.215654496934004\n",
      "  node_ip: 127.0.0.1\n",
      "  pid: 65706\n",
      "  should_checkpoint: true\n",
      "  time_since_restore: 96.68163204193115\n",
      "  time_this_iter_s: 10.697366952896118\n",
      "  time_total_s: 96.68163204193115\n",
      "  timestamp: 1657734050\n",
      "  timesteps_since_restore: 0\n",
      "  training_iteration: 4\n",
      "  trial_id: b43fc_00000\n",
      "  warmup_time: 0.0036132335662841797\n",
      "  \n",
      "\u001b[2m\u001b[36m(BaseWorkerMixin pid=65719)\u001b[0m Done!\n",
      "\u001b[2m\u001b[36m(BaseWorkerMixin pid=65720)\u001b[0m Done!\n",
      "Result for TorchTrainer_b43fc_00000:\n",
      "  _time_this_iter_s: 10.695234060287476\n",
      "  _timestamp: 1657734050\n",
      "  _training_iteration: 4\n",
      "  date: 2022-07-13_10-40-50\n",
      "  done: true\n",
      "  experiment_id: 3b3c6e36d57a4e7993aacdbe6cd4c8ed\n",
      "  experiment_tag: '0'\n",
      "  hostname: Jiaos-MacBook-Pro-16-inch-2019\n",
      "  iterations_since_restore: 4\n",
      "  loss: 1.215654496934004\n",
      "  node_ip: 127.0.0.1\n",
      "  pid: 65706\n",
      "  should_checkpoint: true\n",
      "  time_since_restore: 96.68163204193115\n",
      "  time_this_iter_s: 10.697366952896118\n",
      "  time_total_s: 96.68163204193115\n",
      "  timestamp: 1657734050\n",
      "  timesteps_since_restore: 0\n",
      "  training_iteration: 4\n",
      "  trial_id: b43fc_00000\n",
      "  warmup_time: 0.0036132335662841797\n",
      "  \n"
     ]
    },
    {
     "name": "stderr",
     "output_type": "stream",
     "text": [
      "2022-07-13 10:40:50,559\tINFO tune.py:738 -- Total run time: 99.69 seconds (99.57 seconds for the tuning loop).\n"
     ]
    }
   ],
   "source": [
    "trainer = TorchTrainer(\n",
    "    train_loop_per_worker=train_func,\n",
    "    train_loop_config={\"lr\": 1e-3, \"batch_size\": 64, \"epochs\": 4},\n",
    "    scaling_config={\"num_workers\": 2, \"use_gpu\": False},\n",
    ")\n",
    "result = trainer.fit()\n"
   ]
  },
  {
   "cell_type": "markdown",
   "id": "534ed4df",
   "metadata": {},
   "source": [
    "We can see our results here:"
   ]
  },
  {
   "cell_type": "code",
   "execution_count": 18,
   "id": "b81ca48f",
   "metadata": {},
   "outputs": [
    {
     "name": "stdout",
     "output_type": "stream",
     "text": [
      "Last result: {'loss': 1.215654496934004, '_timestamp': 1657734050, '_time_this_iter_s': 10.695234060287476, '_training_iteration': 4, 'time_this_iter_s': 10.697366952896118, 'should_checkpoint': True, 'done': True, 'timesteps_total': None, 'episodes_total': None, 'training_iteration': 4, 'trial_id': 'b43fc_00000', 'experiment_id': '3b3c6e36d57a4e7993aacdbe6cd4c8ed', 'date': '2022-07-13_10-40-50', 'timestamp': 1657734050, 'time_total_s': 96.68163204193115, 'pid': 65706, 'hostname': 'Jiaos-MacBook-Pro-16-inch-2019', 'node_ip': '127.0.0.1', 'config': {}, 'time_since_restore': 96.68163204193115, 'timesteps_since_restore': 0, 'iterations_since_restore': 4, 'warmup_time': 0.0036132335662841797, 'experiment_tag': '0'}\n",
      "Checkpoint: <ray.air.checkpoint.Checkpoint object at 0x7f9dc87fab38>\n"
     ]
    }
   ],
   "source": [
    "print(f\"Last result: {result.metrics}\")\n",
    "print(f\"Checkpoint: {result.checkpoint}\")"
   ]
  },
  {
   "cell_type": "markdown",
   "id": "b6b15d88",
   "metadata": {},
   "source": [
    "## Loading the model for prediction\n",
    "You may have noticed that we skipped one part of the original tutorial - loading the model and using it for inference. The original code looks like this (we've wrapped it in a function):"
   ]
  },
  {
   "cell_type": "code",
   "execution_count": 19,
   "id": "68e664ff",
   "metadata": {},
   "outputs": [],
   "source": [
    "def predict_from_model(model):\n",
    "    classes = [\n",
    "        \"T-shirt/top\",\n",
    "        \"Trouser\",\n",
    "        \"Pullover\",\n",
    "        \"Dress\",\n",
    "        \"Coat\",\n",
    "        \"Sandal\",\n",
    "        \"Shirt\",\n",
    "        \"Sneaker\",\n",
    "        \"Bag\",\n",
    "        \"Ankle boot\",\n",
    "    ]\n",
    "\n",
    "    model.eval()\n",
    "    x, y = test_data[0][0], test_data[0][1]\n",
    "    with torch.no_grad():\n",
    "        pred = model(x)\n",
    "        predicted, actual = classes[pred[0].argmax(0)], classes[y]\n",
    "        print(f'Predicted: \"{predicted}\", Actual: \"{actual}\"')\n"
   ]
  },
  {
   "cell_type": "markdown",
   "id": "1abf022a",
   "metadata": {},
   "source": [
    "We can use our saved model with the existing code to do prediction:"
   ]
  },
  {
   "cell_type": "code",
   "execution_count": 20,
   "id": "0c135a17",
   "metadata": {},
   "outputs": [
    {
     "name": "stdout",
     "output_type": "stream",
     "text": [
      "Predicted: \"Ankle boot\", Actual: \"Ankle boot\"\n"
     ]
    }
   ],
   "source": [
    "from ray.train.torch import load_checkpoint\n",
    "\n",
    "model, _ = load_checkpoint(result.checkpoint, NeuralNetwork())\n",
    "\n",
    "predict_from_model(model)"
   ]
  },
  {
   "cell_type": "markdown",
   "id": "f6fc1441",
   "metadata": {},
   "source": [
    "To predict more than one example, we can use a loop:"
   ]
  },
  {
   "cell_type": "code",
   "execution_count": 21,
   "id": "17652fa1",
   "metadata": {},
   "outputs": [],
   "source": [
    "classes = [\n",
    "    \"T-shirt/top\",\n",
    "    \"Trouser\",\n",
    "    \"Pullover\",\n",
    "    \"Dress\",\n",
    "    \"Coat\",\n",
    "    \"Sandal\",\n",
    "    \"Shirt\",\n",
    "    \"Sneaker\",\n",
    "    \"Bag\",\n",
    "    \"Ankle boot\",\n",
    "]\n",
    "\n",
    "def predict_from_model(model, data):\n",
    "    model.eval()\n",
    "    with torch.no_grad():\n",
    "        for x, y in data:\n",
    "            pred = model(x)\n",
    "            predicted, actual = classes[pred[0].argmax(0)], classes[y]\n",
    "            print(f'Predicted: \"{predicted}\", Actual: \"{actual}\"')\n"
   ]
  },
  {
   "cell_type": "code",
   "execution_count": 22,
   "id": "3bc14ed6",
   "metadata": {},
   "outputs": [
    {
     "name": "stdout",
     "output_type": "stream",
     "text": [
      "Predicted: \"Ankle boot\", Actual: \"Ankle boot\"\n",
      "Predicted: \"Pullover\", Actual: \"Pullover\"\n",
      "Predicted: \"Trouser\", Actual: \"Trouser\"\n",
      "Predicted: \"Trouser\", Actual: \"Trouser\"\n",
      "Predicted: \"Pullover\", Actual: \"Shirt\"\n",
      "Predicted: \"Trouser\", Actual: \"Trouser\"\n",
      "Predicted: \"Coat\", Actual: \"Coat\"\n",
      "Predicted: \"Pullover\", Actual: \"Shirt\"\n",
      "Predicted: \"Sneaker\", Actual: \"Sandal\"\n",
      "Predicted: \"Sneaker\", Actual: \"Sneaker\"\n"
     ]
    }
   ],
   "source": [
    "predict_from_model(model, [test_data[i] for i in range(10)])"
   ]
  },
  {
   "cell_type": "markdown",
   "id": "a0ce0733",
   "metadata": {},
   "source": [
    "## Using Ray AIR for scalable batch prediction\n",
    "However, we can also use Ray AIRs `BatchPredictor` class to do scalable prediction."
   ]
  },
  {
   "cell_type": "code",
   "execution_count": 24,
   "id": "4d8b0f50",
   "metadata": {},
   "outputs": [],
   "source": [
    "from ray.train.batch_predictor import BatchPredictor\n",
    "from ray.train.torch import TorchPredictor\n",
    "\n",
    "batch_predictor = BatchPredictor.from_checkpoint(result.checkpoint, TorchPredictor, model=NeuralNetwork())"
   ]
  },
  {
   "cell_type": "markdown",
   "id": "ad556eeb",
   "metadata": {},
   "source": [
    "Batch predictors work with Ray Datasets. Here we convert our test dataset into a Ray Dataset - note that this is not very efficient, and you can look at our {ref}`other tutorials <air-examples-ref>` to see more efficient ways to generate a Ray Dataset."
   ]
  },
  {
   "cell_type": "code",
   "execution_count": 25,
   "id": "8cb0556f",
   "metadata": {},
   "outputs": [],
   "source": [
    "import ray.data\n",
    "\n",
    "ds = ray.data.from_items([x.numpy() for x, y in test_data])"
   ]
  },
  {
   "cell_type": "markdown",
   "id": "264dd2e4",
   "metadata": {},
   "source": [
    "We can then trigger prediction with two workers:"
   ]
  },
  {
   "cell_type": "code",
   "execution_count": 26,
   "id": "8a823f7a",
   "metadata": {},
   "outputs": [
    {
     "name": "stderr",
     "output_type": "stream",
     "text": [
      "Map Progress (2 actors 1 pending): 100%|██████████| 200/200 [00:02<00:00, 70.01it/s]\n"
     ]
    }
   ],
   "source": [
    "results = batch_predictor.predict(ds, min_scoring_workers=2)"
   ]
  },
  {
   "cell_type": "markdown",
   "id": "41094a55",
   "metadata": {},
   "source": [
    "`results` is another Ray Dataset. We can use `results.show()` to see our prediction results:"
   ]
  },
  {
   "cell_type": "code",
   "execution_count": 27,
   "id": "d3dce40d",
   "metadata": {},
   "outputs": [
    {
     "name": "stdout",
     "output_type": "stream",
     "text": [
      "{'predictions': array([-1.6813023 , -1.80252   , -0.7062941 , -1.311813  , -0.73570144,\n",
      "        1.5710734 , -0.7933277 ,  2.0013504 ,  1.3654878 ,  2.3410547 ],\n",
      "      dtype=float32)}\n",
      "{'predictions': array([ 0.7655406 , -2.3314183 ,  2.7599745 , -0.9481916 ,  2.381936  ,\n",
      "       -1.7827132 ,  1.9278868 , -3.1977224 ,  0.99582016, -1.4932251 ],\n",
      "      dtype=float32)}\n",
      "{'predictions': array([ 1.3619348 ,  3.6063552 , -0.31104898,  2.543014  ,  0.35176522,\n",
      "       -2.2156405 ,  0.33978355, -2.346588  , -1.7794112 , -2.3220763 ],\n",
      "      dtype=float32)}\n",
      "{'predictions': array([ 1.0049653 ,  2.828181  , -0.29254377,  2.0342605 ,  0.12778719,\n",
      "       -1.6141529 ,  0.17694427, -1.7565594 , -1.4074212 , -1.6818824 ],\n",
      "      dtype=float32)}\n",
      "{'predictions': array([ 0.7404187 , -1.0129585 ,  1.0854365 , -0.20976087,  1.0174558 ,\n",
      "       -0.9567458 ,  1.0075954 , -1.7656276 ,  0.42417505, -0.82513285],\n",
      "      dtype=float32)}\n",
      "{'predictions': array([ 1.4985809 ,  2.499547  ,  0.12339873,  1.9594493 ,  0.717446  ,\n",
      "       -2.0457497 ,  0.6526047 , -2.4334526 , -1.4454234 , -2.2310004 ],\n",
      "      dtype=float32)}\n",
      "{'predictions': array([ 0.45234615, -0.23714153,  0.63517165,  0.04347774,  0.6996659 ,\n",
      "       -0.5516397 ,  0.64028525, -1.0785    ,  0.10881007, -0.9026278 ],\n",
      "      dtype=float32)}\n",
      "{'predictions': array([ 0.38904738, -0.80522966,  1.1767559 , -0.21403429,  1.1468315 ,\n",
      "       -0.84129035,  0.95365965, -1.6148682 ,  0.27161083, -0.96888554],\n",
      "      dtype=float32)}\n",
      "{'predictions': array([-0.54510164, -0.31364274, -0.22182664, -0.25785953, -0.25741974,\n",
      "        0.48500216, -0.2174497 ,  0.7817588 ,  0.34047806,  0.24852225],\n",
      "      dtype=float32)}\n",
      "{'predictions': array([-1.2857382 , -0.9965143 , -0.64847904, -0.7487341 , -0.60564923,\n",
      "        1.1155919 , -0.59477496,  2.0135763 ,  0.88436544,  1.067797  ],\n",
      "      dtype=float32)}\n",
      "{'predictions': array([ 0.43335694, -0.8999133 ,  1.7488041 , -0.31407052,  1.6201458 ,\n",
      "       -1.2921515 ,  1.2184532 , -2.068122  ,  0.17047453, -1.2746251 ],\n",
      "      dtype=float32)}\n",
      "{'predictions': array([-1.267686  , -1.2830508 , -0.4776874 , -0.94430155, -0.51243144,\n",
      "        1.167536  , -0.48850274,  1.4446495 ,  1.00295   ,  1.4936616 ],\n",
      "      dtype=float32)}\n",
      "{'predictions': array([-1.313108  , -1.2630323 , -0.4338272 , -0.9408438 , -0.42691046,\n",
      "        1.0805027 , -0.47953707,  1.6175348 ,  1.2289674 ,  0.99234164],\n",
      "      dtype=float32)}\n",
      "{'predictions': array([ 0.8392371 ,  2.005179  , -0.51027215,  2.2383528 ,  0.11543664,\n",
      "       -1.418318  ,  0.10795547, -1.5231588 , -0.9388958 , -1.2481594 ],\n",
      "      dtype=float32)}\n",
      "{'predictions': array([ 0.9623028 , -1.5077128 ,  1.9832315 , -0.06346714,  2.3645868 ,\n",
      "       -2.1186042 ,  1.7628006 , -3.423348  ,  0.84258574, -1.9048262 ],\n",
      "      dtype=float32)}\n",
      "{'predictions': array([ 1.1201253 ,  2.6718287 , -0.22753508,  2.1176536 ,  0.23477581,\n",
      "       -1.691438  ,  0.2711372 , -1.9383426 , -1.3917452 , -1.7475704 ],\n",
      "      dtype=float32)}\n",
      "{'predictions': array([ 0.70388055, -0.6840804 ,  1.1767206 , -0.21303988,  0.96372414,\n",
      "       -0.94062155,  0.92242914, -1.689395  ,  0.23195787, -1.00324   ],\n",
      "      dtype=float32)}\n",
      "{'predictions': array([ 0.78447473, -1.2020342 ,  1.51774   , -0.36963996,  1.368768  ,\n",
      "       -1.3143553 ,  1.2229909 , -2.284686  ,  0.6896354 , -1.0750523 ],\n",
      "      dtype=float32)}\n",
      "{'predictions': array([-1.5986964 , -2.6742263 , -0.04187664, -1.7070676 , -0.00644506,\n",
      "        1.1022365 , -0.31155828,  1.3389733 ,  2.226508  ,  1.72136   ],\n",
      "      dtype=float32)}\n",
      "{'predictions': array([ 2.9001627 ,  0.791762  ,  1.148489  ,  1.6756771 ,  1.5494249 ,\n",
      "       -2.8295102 ,  1.7419    , -4.0650196 , -0.98189455, -2.9981184 ],\n",
      "      dtype=float32)}\n"
     ]
    }
   ],
   "source": [
    "results.show()"
   ]
  },
  {
   "cell_type": "markdown",
   "id": "427b68e8",
   "metadata": {},
   "source": [
    "If we want to convert these predictions into class names (as in the original example), we can use a `map` function to do this:"
   ]
  },
  {
   "cell_type": "code",
   "execution_count": 29,
   "id": "f17b5c10",
   "metadata": {},
   "outputs": [
    {
     "name": "stderr",
     "output_type": "stream",
     "text": [
      "Map_Batches: 100%|██████████| 200/200 [00:02<00:00, 80.05it/s]\n"
     ]
    }
   ],
   "source": [
    "predicted_classes = results.map_batches(\n",
    "    lambda batch: [classes[pred.to_numpy().argmax(0)] for pred in batch[\"predictions\"]], \n",
    "    batch_format=\"pandas\")"
   ]
  },
  {
   "cell_type": "markdown",
   "id": "cb7040db",
   "metadata": {},
   "source": [
    "To compare this with the actual labels, let's create a Ray dataset for these and zip it together with the predicted classes:"
   ]
  },
  {
   "cell_type": "code",
   "execution_count": 30,
   "id": "207e13b9",
   "metadata": {},
   "outputs": [],
   "source": [
    "real_classes = ray.data.from_items([classes[y] for x, y in test_data])\n",
    "merged = predicted_classes.zip(real_classes)"
   ]
  },
  {
   "cell_type": "markdown",
   "id": "18b1012c",
   "metadata": {},
   "source": [
    "Let's examine our results:"
   ]
  },
  {
   "cell_type": "code",
   "execution_count": 31,
   "id": "2b2decc6",
   "metadata": {},
   "outputs": [
    {
     "name": "stdout",
     "output_type": "stream",
     "text": [
      "('Ankle boot', 'Ankle boot')\n",
      "('Pullover', 'Pullover')\n",
      "('Trouser', 'Trouser')\n",
      "('Trouser', 'Trouser')\n",
      "('Pullover', 'Shirt')\n",
      "('Trouser', 'Trouser')\n",
      "('Coat', 'Coat')\n",
      "('Pullover', 'Shirt')\n",
      "('Sneaker', 'Sandal')\n",
      "('Sneaker', 'Sneaker')\n",
      "('Pullover', 'Coat')\n",
      "('Ankle boot', 'Sandal')\n",
      "('Sneaker', 'Sneaker')\n",
      "('Dress', 'Dress')\n",
      "('Coat', 'Coat')\n",
      "('Trouser', 'Trouser')\n",
      "('Pullover', 'Pullover')\n",
      "('Pullover', 'Coat')\n",
      "('Bag', 'Bag')\n",
      "('T-shirt/top', 'T-shirt/top')\n"
     ]
    }
   ],
   "source": [
    "merged.show()"
   ]
  },
  {
   "cell_type": "markdown",
   "id": "2963e1f7",
   "metadata": {},
   "source": [
    "## Summary\n",
    "\n",
    "This tutorial demonstrated how to turn your existing PyTorch code into code you can use with Ray AIR.\n",
    "\n",
    "We learned how to\n",
    "- enable distributed training using Ray Train abstractions\n",
    "- save and retrieve model checkpoints via Ray AIR\n",
    "- load a model for batch prediction\n",
    "\n",
    "In our {ref}`other examples <air-examples-ref>` you can learn how to do more things with the Ray AIR API, such as **serving your model with Ray Serve** or **tune your hyperparameters with Ray Tune.** You can also learn how to **construct Ray Datasets** to leverage Ray AIR's **preprocessing** API.\n",
    "\n",
    "We hope this tutorial gave you a good starting point to leverage Ray AIR. If you have any questions, suggestions, or run into any problems pelase reach out on [Discuss](https://discuss.ray.io/) or [GitHub](https://github.com/ray-project/ray)!"
   ]
  }
 ],
 "metadata": {
  "kernelspec": {
   "display_name": "Python 3.6.13 ('ray')",
   "language": "python",
   "name": "python3"
  },
  "language_info": {
   "codemirror_mode": {
    "name": "ipython",
    "version": 3
   },
   "file_extension": ".py",
   "mimetype": "text/x-python",
   "name": "python",
   "nbconvert_exporter": "python",
   "pygments_lexer": "ipython3",
   "version": "3.6.13"
  },
  "vscode": {
   "interpreter": {
    "hash": "270f2d85f4357bdfaf8bd07e0bf53472a3d1c8c66509b0720fe6bb0939d92e56"
   }
  }
 },
 "nbformat": 4,
 "nbformat_minor": 5
}
